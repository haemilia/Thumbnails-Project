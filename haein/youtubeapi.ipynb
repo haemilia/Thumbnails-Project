{
 "cells": [
  {
   "cell_type": "code",
   "execution_count": 68,
   "metadata": {},
   "outputs": [],
   "source": [
    "api_key = \"\" #change this to your personal google api key \n",
    "\n",
    "ch_id = \"UCdUcjkyZtf-1WJyPPiETF1g\" #Youtube channel id"
   ]
  },
  {
   "attachments": {},
   "cell_type": "markdown",
   "metadata": {},
   "source": [
    "https://youtu.be/D56_Cx36oGY \n",
    "\n",
    "이분 영상 참고해서 만들었습니당\n",
    "위의 api_key는 꼭 개인 api key로 바꿔서 사용해주세요!"
   ]
  },
  {
   "cell_type": "code",
   "execution_count": 69,
   "metadata": {},
   "outputs": [],
   "source": [
    "import googleapiclient.discovery\n",
    "import googleapiclient.errors\n",
    "import pandas as pd\n",
    "import numpy as np"
   ]
  },
  {
   "cell_type": "code",
   "execution_count": 70,
   "metadata": {},
   "outputs": [],
   "source": [
    "# youtube data api access\n",
    "\n",
    "api_service_name = \"youtube\"\n",
    "api_version = \"v3\"\n",
    "\n",
    "youtube = googleapiclient.discovery.build(\n",
    "    api_service_name, api_version, developerKey=api_key)"
   ]
  },
  {
   "attachments": {},
   "cell_type": "markdown",
   "metadata": {},
   "source": [
    "get_channel_info() 는 한 채널에 대한 기본적인 정보 모으는 함수!"
   ]
  },
  {
   "cell_type": "code",
   "execution_count": 71,
   "metadata": {},
   "outputs": [],
   "source": [
    "def get_channel_info(youtube, channel_id):\n",
    "    request = youtube.channels().list(\n",
    "        part=\"snippet,contentDetails,statistics\",\n",
    "        id=channel_id\n",
    "    )\n",
    "    response = request.execute()\n",
    "    all_data = []\n",
    "\n",
    "    for item in response['items']:\n",
    "        data = {'channelName': item['snippet']['title'],\n",
    "        'subscribers': item['statistics']['subscriberCount'],\n",
    "        'totalVideos': item['statistics']['videoCount'],\n",
    "        'playlistId': item['contentDetails']['relatedPlaylists']['uploads']\n",
    "\n",
    "        }\n",
    "        all_data.append(data)\n",
    "\n",
    "    return(pd.DataFrame(all_data))"
   ]
  },
  {
   "attachments": {},
   "cell_type": "markdown",
   "metadata": {},
   "source": [
    "여기서 playlist_id 는 채널의 모든 영상이 들어있는 재생목록 id!"
   ]
  },
  {
   "cell_type": "code",
   "execution_count": 72,
   "metadata": {},
   "outputs": [
    {
     "data": {
      "text/html": [
       "<div>\n",
       "<style scoped>\n",
       "    .dataframe tbody tr th:only-of-type {\n",
       "        vertical-align: middle;\n",
       "    }\n",
       "\n",
       "    .dataframe tbody tr th {\n",
       "        vertical-align: top;\n",
       "    }\n",
       "\n",
       "    .dataframe thead th {\n",
       "        text-align: right;\n",
       "    }\n",
       "</style>\n",
       "<table border=\"1\" class=\"dataframe\">\n",
       "  <thead>\n",
       "    <tr style=\"text-align: right;\">\n",
       "      <th></th>\n",
       "      <th>channelName</th>\n",
       "      <th>subscribers</th>\n",
       "      <th>totalVideos</th>\n",
       "      <th>playlistId</th>\n",
       "    </tr>\n",
       "  </thead>\n",
       "  <tbody>\n",
       "    <tr>\n",
       "      <th>0</th>\n",
       "      <td>ITSub잇섭</td>\n",
       "      <td>2320000</td>\n",
       "      <td>1019</td>\n",
       "      <td>UUdUcjkyZtf-1WJyPPiETF1g</td>\n",
       "    </tr>\n",
       "  </tbody>\n",
       "</table>\n",
       "</div>"
      ],
      "text/plain": [
       "  channelName subscribers totalVideos                playlistId\n",
       "0     ITSub잇섭     2320000        1019  UUdUcjkyZtf-1WJyPPiETF1g"
      ]
     },
     "execution_count": 72,
     "metadata": {},
     "output_type": "execute_result"
    }
   ],
   "source": [
    "channel_stats = get_channel_info(youtube, ch_id)\n",
    "playlist_id = channel_stats['playlistId'][0]\n",
    "channel_stats"
   ]
  },
  {
   "attachments": {},
   "cell_type": "markdown",
   "metadata": {},
   "source": [
    "한 재생목록 id를 넣으면 그 재생목록 속 영상들의 video id들을 긁어모아주는 함수!"
   ]
  },
  {
   "cell_type": "code",
   "execution_count": 73,
   "metadata": {},
   "outputs": [],
   "source": [
    "def get_video_id(youtube, playlist_id, page_token):\n",
    "\n",
    "    request = youtube.playlistItems().list(\n",
    "        part=\"snippet,contentDetails\",\n",
    "        playlistId=playlist_id,\n",
    "        maxResults = 50,\n",
    "        pageToken = page_token\n",
    "    )\n",
    "    response = request.execute()\n",
    "    video_ids = []\n",
    "\n",
    "    for item in response['items']:\n",
    "        video_ids.append(item['contentDetails']['videoId'])\n",
    "    \n",
    "    # It will take a long time to get all 6427 video ids if you uncomment this part\n",
    "    \n",
    "    next_page_token = response.get('nextPageToken')\n",
    "\n",
    "\n",
    "    return video_ids, next_page_token"
   ]
  },
  {
   "attachments": {},
   "cell_type": "markdown",
   "metadata": {},
   "source": [
    "영상 id를 넣으면 우리가 원하는 정보를 뱉어주는 함수!"
   ]
  },
  {
   "cell_type": "code",
   "execution_count": 79,
   "metadata": {},
   "outputs": [],
   "source": [
    "def get_video_info(youtube, video_ids):\n",
    "\n",
    "    request = youtube.videos().list(\n",
    "            part=\"snippet,contentDetails,statistics\",\n",
    "            id=video_ids\n",
    "        )\n",
    "    response = request.execute()\n",
    "\n",
    "    video_info = []\n",
    "\n",
    "    for video in response['items']:\n",
    "        keep = {\n",
    "            'Published': video['snippet']['publishedAt'],\n",
    "            'HDThumbnailUrl': video['snippet']['thumbnails']['high']['url'],\n",
    "            'ViewCount': video['statistics']['viewCount'],\n",
    "            'VideoId': video['id'],\n",
    "            'Title': video['snippet']['title'],\n",
    "            #'channelid': video['snippet']['channelId']\n",
    "            }\n",
    "\n",
    "        video_info.append(keep)\n",
    "\n",
    "    return(pd.DataFrame(video_info))\n",
    "    \n",
    "    "
   ]
  },
  {
   "cell_type": "code",
   "execution_count": 75,
   "metadata": {},
   "outputs": [],
   "source": [
    "def get_video_id_1st(youtube, playlist_id):\n",
    "\n",
    "    request = youtube.playlistItems().list(\n",
    "        part=\"snippet,contentDetails\",\n",
    "        playlistId=playlist_id,\n",
    "        maxResults = 50\n",
    "    )\n",
    "    response = request.execute()\n",
    "    video_ids = []\n",
    "\n",
    "    for item in response['items']:\n",
    "        video_ids.append(item['contentDetails']['videoId'])\n",
    "    \n",
    "      \n",
    "    next_page_token = response.get('nextPageToken')\n",
    "\n",
    "\n",
    "    return video_ids, next_page_token"
   ]
  },
  {
   "cell_type": "code",
   "execution_count": 76,
   "metadata": {},
   "outputs": [],
   "source": [
    "def get_pl_count(youtube, playlist_ids):\n",
    "\n",
    "    request = youtube.playlists().list(\n",
    "        part = \"contentDetails\",\n",
    "        id = playlist_ids        \n",
    "        )\n",
    "    response = request.execute()\n",
    "\n",
    "    pl_count = response['items'][0]['contentDetails']['itemCount']\n",
    "    \n",
    "    return pl_count\n"
   ]
  },
  {
   "cell_type": "code",
   "execution_count": 77,
   "metadata": {},
   "outputs": [],
   "source": [
    "#playlist_id = \"UUdUcjkyZtf-1WJyPPiETF1g\"\n",
    "num = get_pl_count(youtube, playlist_id)\n",
    "\n",
    "r = int(np.ceil(num/50))\n",
    "id_lst = []\n",
    "\n",
    "video_ids, next_token = get_video_id_1st(youtube, playlist_id)\n",
    "\n",
    "id_lst.append(video_ids)\n",
    "\n",
    "for i in range(r-1):\n",
    "    video_ids, next_token = get_video_id(youtube, playlist_id, next_token)\n",
    "    id_lst.append(video_ids)"
   ]
  },
  {
   "cell_type": "code",
   "execution_count": 80,
   "metadata": {},
   "outputs": [],
   "source": [
    "pages = []\n",
    "for page in id_lst:\n",
    "    video_df = get_video_info(youtube, page)\n",
    "    pages.append(video_df)\n",
    "\n",
    "creator = \"ITSub잇섭\"\n",
    "df = pd.concat(pages, ignore_index=True)\n",
    "df.to_csv(f\"{creator}.csv\")"
   ]
  }
 ],
 "metadata": {
  "kernelspec": {
   "display_name": "thumbenv",
   "language": "python",
   "name": "python3"
  },
  "language_info": {
   "codemirror_mode": {
    "name": "ipython",
    "version": 3
   },
   "file_extension": ".py",
   "mimetype": "text/x-python",
   "name": "python",
   "nbconvert_exporter": "python",
   "pygments_lexer": "ipython3",
   "version": "3.9.16"
  },
  "orig_nbformat": 4,
  "vscode": {
   "interpreter": {
    "hash": "cfd39bbf24881f94a02247d83623405ef8f87574c8774d0e00a887353730a37e"
   }
  }
 },
 "nbformat": 4,
 "nbformat_minor": 2
}
