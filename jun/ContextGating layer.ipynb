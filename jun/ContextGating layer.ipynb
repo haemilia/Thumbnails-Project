{
  "nbformat": 4,
  "nbformat_minor": 0,
  "metadata": {
    "colab": {
      "provenance": []
    },
    "kernelspec": {
      "name": "python3",
      "display_name": "Python 3"
    },
    "language_info": {
      "name": "python"
    }
  },
  "cells": [
    {
      "cell_type": "code",
      "execution_count": null,
      "metadata": {
        "id": "cnoLVrvotT6l"
      },
      "outputs": [],
      "source": [
        "import torch\n",
        "import torch.nn as nn\n",
        "\n",
        "class ContextGating(nn.Module):\n",
        "    def __init__(self, input_size, gate_size):\n",
        "        super(ContextGating, self).__init__()\n",
        "        \n",
        "        self.input_size = input_size\n",
        "        self.gate_size = gate_size\n",
        "        \n",
        "        self.fc_input = nn.Linear(input_size, gate_size)\n",
        "        self.fc_gate = nn.Linear(input_size, gate_size)\n",
        "        self.sigmoid = nn.Sigmoid()\n",
        "        \n",
        "    def forward(self, input):\n",
        "        input_proj = self.fc_input(input)\n",
        "        gate_proj = self.fc_gate(input)\n",
        "        gated_input = self.sigmoid(gate_proj) * input_proj\n",
        "        return gated_input\n",
        "\n"
      ]
    },
    {
      "cell_type": "code",
      "source": [
        "input_tensor = torch.randn(batch_size, input_size)\n",
        "context_gating = ContextGating(input_size, gate_size)\n",
        "gated_input = context_gating(input_tensor)"
      ],
      "metadata": {
        "id": "XteXJXtdtbVy"
      },
      "execution_count": null,
      "outputs": []
    }
  ]
}