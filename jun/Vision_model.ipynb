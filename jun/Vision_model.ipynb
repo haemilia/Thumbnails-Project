{
  "nbformat": 4,
  "nbformat_minor": 0,
  "metadata": {
    "colab": {
      "provenance": []
    },
    "kernelspec": {
      "name": "python3",
      "display_name": "Python 3"
    },
    "language_info": {
      "name": "python"
    }
  },
  "cells": [
    {
      "cell_type": "code",
      "execution_count": null,
      "metadata": {
        "id": "yb3imuUrvOha"
      },
      "outputs": [],
      "source": [
        "import torch\n",
        "import torch.nn as nn\n",
        "import torchvision.models as models\n",
        "\n",
        "class VisionModel(nn.Module):\n",
        "    def __init__(self):\n",
        "        super(VisionModel, self).__init__()\n",
        "        self.densenet = models.densenet121(pretrained=True)\n",
        "        self.avgpool = nn.AdaptiveAvgPool2d((1,1))\n",
        "        self.batchnorm = nn.BatchNorm2d(1024)\n",
        "        self.flatten = nn.Flatten()\n",
        "        self.dense = nn.Linear(1024, 1024)\n",
        "        \n",
        "    def forward(self, x):\n",
        "        x = self.densenet(x)\n",
        "        x = self.avgpool(x)\n",
        "        x = self.batchnorm(x)\n",
        "        x = self.flatten(x)\n",
        "        x = self.dense(x)\n",
        "        return x"
      ]
    },
    {
      "cell_type": "code",
      "source": [
        "vision_model = VisionModel()\n",
        "input_tensor = torch.randn(batch_size, 3, 320, 180)\n",
        "output_tensor = vision_model(input_tensor)"
      ],
      "metadata": {
        "id": "XQgeUy6TvTUl"
      },
      "execution_count": null,
      "outputs": []
    }
  ]
}