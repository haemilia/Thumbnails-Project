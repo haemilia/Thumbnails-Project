{
  "cells": [
    {
      "cell_type": "code",
      "execution_count": null,
      "metadata": {
        "colab": {
          "base_uri": "https://localhost:8080/"
        },
        "id": "TtgI0OMzkH07",
        "outputId": "fcf16a25-198f-4c98-a22c-b3a9d3a1ed3b"
      },
      "outputs": [
        {
          "output_type": "stream",
          "name": "stdout",
          "text": [
            "Drive already mounted at /content/drive; to attempt to forcibly remount, call drive.mount(\"/content/drive\", force_remount=True).\n"
          ]
        }
      ],
      "source": [
        "from google.colab import drive\n",
        "drive.mount('/content/drive')"
      ]
    },
    {
      "cell_type": "code",
      "execution_count": null,
      "metadata": {
        "id": "CrA1NGV6rouD"
      },
      "outputs": [],
      "source": [
        "!pip install transformers datasets"
      ]
    },
    {
      "cell_type": "code",
      "execution_count": null,
      "metadata": {
        "id": "fqT87c2YmqWD"
      },
      "outputs": [],
      "source": [
        "import os\n",
        "import numpy as np\n",
        "import pandas as pd\n",
        "import torch\n",
        "import torch.nn as nn\n",
        "import torch.nn.functional as F\n",
        "from datasets import (Dataset, DatasetDict)\n",
        "from transformers import (AutoTokenizer,\n",
        "        AutoModel,\n",
        "        DefaultDataCollator,\n",
        "        Trainer,\n",
        "        TrainingArguments,\n",
        "        AutoConfig)\n",
        "from sklearn.model_selection import train_test_split\n",
        "import torchvision.models as models\n",
        "from PIL import Image"
      ]
    },
    {
      "cell_type": "code",
      "execution_count": null,
      "metadata": {
        "colab": {
          "base_uri": "https://localhost:8080/"
        },
        "id": "R4CuFFyXvjU3",
        "outputId": "9e22e600-1f40-4b74-b7e3-1caa95c9a932"
      },
      "outputs": [
        {
          "output_type": "stream",
          "name": "stdout",
          "text": [
            "AllLabeledData.csv  DATA.zip\t\t   FinalDataset.csv  비글부부.zip\n",
            "DATAA.zip\t    FinalDataset\\ (1).csv  FULLDATA.csv\n"
          ]
        }
      ],
      "source": [
        "# Path\n",
        "my_PATH = \"/content/drive/MyDrive/ybigta\"\n",
        "os.chdir(my_PATH)\n",
        "# show file list in the current directory\n",
        "!dir"
      ]
    },
    {
      "cell_type": "code",
      "execution_count": null,
      "metadata": {
        "id": "-zg8mr9qwBP3"
      },
      "outputs": [],
      "source": [
        "ch = \"FULLDATA\"\n",
        "t_size = 0.2\n",
        "v_size = 0.5"
      ]
    },
    {
      "cell_type": "code",
      "source": [
        "df = pd.read_csv(f\"{ch}.csv\", usecols= ['VideoTitle', 'Label','Image'], index_col=0).dropna()"
      ],
      "metadata": {
        "id": "g2o9N3kBmWOD"
      },
      "execution_count": null,
      "outputs": []
    },
    {
      "cell_type": "code",
      "source": [
        "df['Label']"
      ],
      "metadata": {
        "colab": {
          "base_uri": "https://localhost:8080/"
        },
        "id": "hIRX1nh1fgez",
        "outputId": "efc7fae9-64e0-48c1-aebf-7006e5971bb9"
      },
      "execution_count": null,
      "outputs": [
        {
          "output_type": "execute_result",
          "data": {
            "text/plain": [
              "VideoTitle\n",
              "【히오스/하이라이트】 새해맞이 행복시공 (feat. Rich, KyoCha)     0.0\n",
              "【히오스】 2019년에도 무서운 침아블로 (feat. Rich)            0.0\n",
              "【다크 세라핌】 1화 - 추락천사 알카드                         0.0\n",
              "【히오스】 단 8분 46초만에 끝내는 필승전략                      0.0\n",
              "【메탈슬러그 - 침착맨X주호민】 인해전술 공략법                     1.0\n",
              "                                              ... \n",
              "피지컬 노트북🏋️파나소닉 터프북 FZ-40 써봤습니다                  0.0\n",
              "갤럭시 S23 시리즈 영혼까지 뜯어 봤습니다                       1.0\n",
              "하루도 안 돼서 완판됐다는 갤럭시 S23 울트라 BMW M 에디션 열어봤습니다    1.0\n",
              "갤럭시 S23 울트라 정품 케이스 결함까지 몰아보기                   0.0\n",
              "5년만에 새로 나온 애플 홈팟(2세대) 사왔습니다                    0.0\n",
              "Name: Label, Length: 25023, dtype: float64"
            ]
          },
          "metadata": {},
          "execution_count": 60
        }
      ]
    },
    {
      "cell_type": "code",
      "execution_count": null,
      "metadata": {
        "id": "TS0MR0OBwT0S"
      },
      "outputs": [],
      "source": [
        "#For loading data\n",
        "def load_data(df,t_size, v_size):  \n",
        "  train_df, test_df = train_test_split(df, test_size = t_size)\n",
        "  val_df, test_df = train_test_split(test_df, test_size=v_size)\n",
        "\n",
        "  raw_ds = DatasetDict({\"train\": Dataset.from_pandas(train_df),\n",
        "       \"validation\": Dataset.from_pandas(val_df),\n",
        "       \"test\": Dataset.from_pandas(test_df)})\n",
        "  \n",
        "  return raw_ds"
      ]
    },
    {
      "cell_type": "code",
      "execution_count": null,
      "metadata": {
        "colab": {
          "base_uri": "https://localhost:8080/"
        },
        "id": "VPVkc8fF3Q-V",
        "outputId": "8a60f971-0ecf-488a-c5ed-a957090746b1"
      },
      "outputs": [
        {
          "output_type": "execute_result",
          "data": {
            "text/plain": [
              "DatasetDict({\n",
              "    train: Dataset({\n",
              "        features: ['Label', 'Image', 'Title'],\n",
              "        num_rows: 20018\n",
              "    })\n",
              "    validation: Dataset({\n",
              "        features: ['Label', 'Image', 'Title'],\n",
              "        num_rows: 2502\n",
              "    })\n",
              "    test: Dataset({\n",
              "        features: ['Label', 'Image', 'Title'],\n",
              "        num_rows: 2503\n",
              "    })\n",
              "})"
            ]
          },
          "metadata": {},
          "execution_count": 8
        }
      ],
      "source": [
        "raw_ds = load_data(df, t_size, v_size)\n",
        "raw_ds"
      ]
    },
    {
      "cell_type": "code",
      "execution_count": null,
      "metadata": {
        "id": "AGLNefRwLQCz"
      },
      "outputs": [],
      "source": [
        "#getting the tokenizer\n",
        "checkpoint = \"klue/roberta-base\"\n",
        "tokenizer = AutoTokenizer.from_pretrained(checkpoint)"
      ]
    },
    {
      "cell_type": "code",
      "execution_count": null,
      "metadata": {
        "colab": {
          "base_uri": "https://localhost:8080/",
          "height": 370,
          "referenced_widgets": [
            "3adda389ada14e6b97119162138e0434",
            "31b1ab12a1404015882de95e10ffd412",
            "bd367ac0a9f4447f999fec7236071f69",
            "dc0c3e0294b04baea674c37c3bef375e",
            "5a53d3c91ca044dea81c1232b64cc7a9",
            "97c7174146e943bcaf136e03ad9f1a99",
            "37e349a6f7a94f9da62232160de97c74",
            "7b3304308cd8454bb8110f4ef7dd4445",
            "c1287965d21b43238bb639d25ad41475",
            "52729e502b074d28ad11b39fa4532a7b",
            "22e02bc1bb44449899d4686b99da4d23",
            "b22bff630d8341f5b8a9c1178625e93f",
            "f4c30c1b0aee4b64a368b538696ce6c7",
            "d66c850b65854404a635f71753e50e2d",
            "2aafc0bdf51e4a2cb9aeaea15fc14103",
            "c6197b5cb00d428db6ea1d681bd28f93",
            "9d332e8c3e914e85a2c756537444b25e",
            "2cab6accbc624ebb96adacfecbd522cd",
            "22fb63683d684004a9c182efc77eee69",
            "61b72475d428411eb97159a3b494fd64",
            "c9d5836b0e324b339a56af2a4caebbea",
            "630325c8d78d44eab8d31d4032d72ebe",
            "578f1792e8a94a739592346c9b807e7a",
            "b0ee7c6412664c0baeae7a9e365f8ab9",
            "1921b4601ef84f358e6e2f55f61ec8a5",
            "acbc847da89e4a909d324ffcb7a42581",
            "01934a9e005d4539a39c75061e25acff",
            "27ca5d819db7458c9d8cb35857680f36",
            "0a7e67f9728c4ca4b2243a11f0c283b7",
            "5f4d88c746b246b580d92c7e99dd8807",
            "e6364c2ae0a54e3ebc76a20bff31d1b0",
            "18432f7208c14c6190c38273938faec2",
            "1ef33bdbea884a2faa96cef05acbdeca"
          ]
        },
        "id": "31Gj3v51zLSD",
        "outputId": "4226194b-5dc1-4443-8ae8-8c2704b5371e"
      },
      "outputs": [
        {
          "output_type": "display_data",
          "data": {
            "text/plain": [
              "  0%|          | 0/21 [00:00<?, ?ba/s]"
            ],
            "application/vnd.jupyter.widget-view+json": {
              "version_major": 2,
              "version_minor": 0,
              "model_id": "3adda389ada14e6b97119162138e0434"
            }
          },
          "metadata": {}
        },
        {
          "output_type": "display_data",
          "data": {
            "text/plain": [
              "  0%|          | 0/3 [00:00<?, ?ba/s]"
            ],
            "application/vnd.jupyter.widget-view+json": {
              "version_major": 2,
              "version_minor": 0,
              "model_id": "b22bff630d8341f5b8a9c1178625e93f"
            }
          },
          "metadata": {}
        },
        {
          "output_type": "display_data",
          "data": {
            "text/plain": [
              "  0%|          | 0/3 [00:00<?, ?ba/s]"
            ],
            "application/vnd.jupyter.widget-view+json": {
              "version_major": 2,
              "version_minor": 0,
              "model_id": "578f1792e8a94a739592346c9b807e7a"
            }
          },
          "metadata": {}
        },
        {
          "output_type": "execute_result",
          "data": {
            "text/plain": [
              "DatasetDict({\n",
              "    train: Dataset({\n",
              "        features: ['Label', 'Image', 'Title', 'input_ids', 'token_type_ids', 'attention_mask'],\n",
              "        num_rows: 20018\n",
              "    })\n",
              "    validation: Dataset({\n",
              "        features: ['Label', 'Image', 'Title', 'input_ids', 'token_type_ids', 'attention_mask'],\n",
              "        num_rows: 2502\n",
              "    })\n",
              "    test: Dataset({\n",
              "        features: ['Label', 'Image', 'Title', 'input_ids', 'token_type_ids', 'attention_mask'],\n",
              "        num_rows: 2503\n",
              "    })\n",
              "})"
            ]
          },
          "metadata": {},
          "execution_count": 10
        }
      ],
      "source": [
        "#tokenizing data\n",
        "def tokenize_function(batch):\n",
        "  return tokenizer(batch['Title'], truncation = True, max_length= 100, add_special_tokens=True, padding='max_length')\n",
        "\n",
        "tokenized =raw_ds.map(tokenize_function, batched = True)\n",
        "tokenized"
      ]
    },
    {
      "cell_type": "code",
      "execution_count": null,
      "metadata": {
        "id": "eZma0ku_oa1n"
      },
      "outputs": [],
      "source": [
        "#set format of tokenized data for pytorch and get data collator\n",
        "tokenized.set_format(\"torch\", columns = [\"input_ids\", \"attention_mask\", \"Label\"])\n",
        "data_collator = DefaultDataCollator(\"pt\")"
      ]
    },
    {
      "cell_type": "code",
      "execution_count": null,
      "metadata": {
        "id": "8SV7s49zpLxP"
      },
      "outputs": [],
      "source": [
        "class LanguageModel(nn.Module):\n",
        "    def __init__(self, checkpoint):\n",
        "        super(LanguageModel, self).__init__()\n",
        "\n",
        "        # Load model with given checkpoint and get the body\n",
        "        self.transformer = AutoModel.from_pretrained(checkpoint,\n",
        "                                                   config=AutoConfig.from_pretrained(\n",
        "                                                       checkpoint,\n",
        "                                                       output_attentions=True, \n",
        "                                                       output_hidden_states=True))\n",
        "        self.bidir_LSTM = nn.LSTM(768, 50, bidirectional=True) \n",
        "        self.flatten = nn.Flatten() \n",
        "        self.dense_50 = nn.Linear(100, 50)\n",
        "    \n",
        "    def forward(self, input_ids, attention_mask):\n",
        "        # Extract outputs from the body\n",
        "        input_ids = input_ids\n",
        "        attention_mask = attention_mask\n",
        "        outputs = self.transformer(input_ids, attention_mask)\n",
        "        \n",
        "        # Add custom layers\n",
        "        LSTM_out, _ = self.bidir_LSTM(outputs.last_hidden_state)\n",
        "        max_pool_out, _ = torch.max(LSTM_out, 1)\n",
        "        output = F.relu(self.dense_50(max_pool_out))\n",
        "        return output\n",
        "  "
      ]
    },
    {
      "cell_type": "code",
      "source": [
        "class ImgModel(nn.Module):\n",
        "    def __init__(self, num_classes):\n",
        "        super(ImgModel, self).__init__()\n",
        "        \n",
        "        self.base_model = models.densenet121(pretrained=True)\n",
        "        for param in self.base_model.parameters():\n",
        "            param.requires_grad = False\n",
        "        self.avg_pool = nn.AdaptiveAvgPool2d((1, 1))\n",
        "        self.batch_norm1 = nn.BatchNorm2d(1024)\n",
        "        self.dropout1 = nn.Dropout(p=0.5)\n",
        "        self.fc1 = nn.Linear(1024, 256)\n",
        "        self.batch_norm2 = nn.BatchNorm1d(256)\n",
        "        self.dropout2 = nn.Dropout(p=0.5)\n",
        "        self.fc2 = nn.Linear(256, 50)\n",
        "        \n",
        "    def forward(self, img_input):\n",
        "        x = img_input\n",
        "        x = x.unsqueeze(1)\n",
        "\n",
        "        x = self.base_model.features(x)\n",
        "        x = self.avg_pool(x)\n",
        "        x = x.view(x.size(0), -1)\n",
        "        x = self.batch_norm1(x)\n",
        "        x = F.relu(self.fc1(x))\n",
        "        x = self.dropout1(x)\n",
        "        x = self.batch_norm2(x)\n",
        "        x = F.relu(self.fc2(x))\n",
        "        x = self.dropout2(x)\n",
        "        return x"
      ],
      "metadata": {
        "id": "KPaRuSyxd4jw"
      },
      "execution_count": null,
      "outputs": []
    },
    {
      "cell_type": "code",
      "source": [
        "class ConcatModel(nn.Module):\n",
        "    def __init__(self):\n",
        "        super(ConcatModel, self).__init__()\n",
        "        self.nlp_model = LanguageModel(checkpoint=checkpoint)\n",
        "        self.img_model = ImgModel(num_classes=2)\n",
        "        \n",
        "        # Define context gating layer\n",
        "        self.context_gate = nn.Sequential(\n",
        "            nn.Linear(258, 258),\n",
        "            nn.Sigmoid()\n",
        "        )\n",
        "        \n",
        "        # Define dense layer with 20 units\n",
        "        self.dense_layer = nn.Linear(258, 20)\n",
        "        \n",
        "        # Define dropout layer with 0.2 dropout rate\n",
        "        self.dropout_layer = nn.Dropout(0.2)\n",
        "\n",
        "        self.dense_layer2= nn.Linear(20,2)\n",
        "        \n",
        "        # Define final dense layer with softmax activation\n",
        "        self.softmax_layer = nn.Softmax(dim=1)\n",
        "        \n",
        "    def forward(self, input_ids, attention_mask, img_input, label):\n",
        "        nlp_output = self.nlp_model(input_ids, attention_mask)\n",
        "        img_output = self.img_model(img_input)\n",
        "        \n",
        "        # Concatenate the outputs of the two models\n",
        "        concat_output = torch.cat((nlp_output, img_output), dim=1)\n",
        "        \n",
        "        # Apply context gating\n",
        "        gated_output = self.context_gate(concat_output) * concat_output\n",
        "        \n",
        "        # Apply dense layer, dropout layer, and softmax layer\n",
        "        dense_output = self.dense_layer(gated_output)\n",
        "        dropout_output = self.dropout_layer(dense_output)\n",
        "        dense_output2 = self.dense_layer2(dropout_output)\n",
        "        softmax_output = self.softmax_layer(dense_output2)\n",
        "        \n",
        "        return softmax_output"
      ],
      "metadata": {
        "id": "Kj43uEYEd6r_"
      },
      "execution_count": null,
      "outputs": []
    },
    {
      "cell_type": "code",
      "execution_count": null,
      "metadata": {
        "colab": {
          "base_uri": "https://localhost:8080/"
        },
        "id": "i-L6R3mndxIU",
        "outputId": "2e4d700a-a22f-452e-e68b-a6a6c22d88a4"
      },
      "outputs": [
        {
          "output_type": "stream",
          "name": "stderr",
          "text": [
            "Some weights of the model checkpoint at klue/roberta-base were not used when initializing RobertaModel: ['lm_head.decoder.weight', 'lm_head.layer_norm.weight', 'lm_head.dense.weight', 'lm_head.dense.bias', 'lm_head.layer_norm.bias', 'lm_head.bias', 'lm_head.decoder.bias']\n",
            "- This IS expected if you are initializing RobertaModel from the checkpoint of a model trained on another task or with another architecture (e.g. initializing a BertForSequenceClassification model from a BertForPreTraining model).\n",
            "- This IS NOT expected if you are initializing RobertaModel from the checkpoint of a model that you expect to be exactly identical (initializing a BertForSequenceClassification model from a BertForSequenceClassification model).\n",
            "Some weights of RobertaModel were not initialized from the model checkpoint at klue/roberta-base and are newly initialized: ['roberta.pooler.dense.bias', 'roberta.pooler.dense.weight']\n",
            "You should probably TRAIN this model on a down-stream task to be able to use it for predictions and inference.\n",
            "/usr/local/lib/python3.8/dist-packages/torchvision/models/_utils.py:208: UserWarning: The parameter 'pretrained' is deprecated since 0.13 and may be removed in the future, please use 'weights' instead.\n",
            "  warnings.warn(\n",
            "/usr/local/lib/python3.8/dist-packages/torchvision/models/_utils.py:223: UserWarning: Arguments other than a weight enum or `None` for 'weights' are deprecated since 0.13 and may be removed in the future. The current behavior is equivalent to passing `weights=DenseNet121_Weights.IMAGENET1K_V1`. You can also use `weights=DenseNet121_Weights.DEFAULT` to get the most up-to-date weights.\n",
            "  warnings.warn(msg)\n"
          ]
        }
      ],
      "source": [
        "model = ConcatModel()"
      ]
    },
    {
      "cell_type": "code",
      "source": [
        "!unzip -q /content/drive/MyDrive/ybigta/DATA.zip -d /content/Dataset"
      ],
      "metadata": {
        "colab": {
          "base_uri": "https://localhost:8080/"
        },
        "id": "Czmbdpxtpkb8",
        "outputId": "37c7fcd6-5aef-429b-df19-88e8d69860e8"
      },
      "execution_count": null,
      "outputs": [
        {
          "output_type": "stream",
          "name": "stdout",
          "text": [
            "replace /content/Dataset/0_0.png? [y]es, [n]o, [A]ll, [N]one, [r]ename: "
          ]
        }
      ]
    },
    {
      "cell_type": "code",
      "source": [
        "!unzip -q /content/drive/MyDrive/ybigta/DATAA.zip -d /content/Dataset"
      ],
      "metadata": {
        "colab": {
          "base_uri": "https://localhost:8080/"
        },
        "id": "PXkV8SZss08U",
        "outputId": "58aab07d-0964-4fbf-dc66-799084465ee9"
      },
      "execution_count": null,
      "outputs": [
        {
          "output_type": "stream",
          "name": "stdout",
          "text": [
            "replace /content/Dataset/7_0.png? [y]es, [n]o, [A]ll, [N]one, [r]ename: A\n"
          ]
        }
      ]
    },
    {
      "cell_type": "code",
      "execution_count": null,
      "metadata": {
        "id": "fuItt-U2dxIV"
      },
      "outputs": [],
      "source": [
        "from torch.utils.data import DataLoader\n",
        "from torchvision import transforms\n",
        "import torch.utils.data as data\n",
        "import os\n",
        "from google.colab import files\n",
        "\n",
        "class CustomDataset(data.Dataset):\n",
        "    def __init__(self, inputid_data, attention_data, image_data, label_data, img_transform=None):\n",
        "        self.inputid_data = inputid_data\n",
        "        self.attention_data = attention_data\n",
        "        self.image_data = image_data\n",
        "        self.label_data = label_data\n",
        "        self.img_transform = img_transform\n",
        "        \n",
        "    def __getitem__(self, index):\n",
        "        # Load text data\n",
        "        input_ids = self.inputid_data[index]\n",
        "        attention_mask = self.attention_data[index]\n",
        "        \n",
        "        # Load image data\n",
        "        # img_path를 이미지가 저장된 경로/self.image_data[index]로 하면 될 듯.\n",
        "        img_path = f'/content/Dataset/{self.image_data[index]}'\n",
        "        img_file = open(img_path, 'rb')\n",
        "        img = Image.open(img_file).convert('RGB')\n",
        "        if self.img_transform is not None:\n",
        "            img = self.img_transform(img)\n",
        "        img_input = img\n",
        "        img_file.close()\n",
        "        \n",
        "        # Load label data\n",
        "        label = self.label_data[index]\n",
        "\n",
        "        return {\n",
        "            'input_ids': input_ids,\n",
        "            'attention_mask' : attention_mask,\n",
        "            'img_input': img_input,\n",
        "            'labels': label,\n",
        "        }\n",
        "    \n",
        "    def __len__(self):\n",
        "        return len(self.label_data)\n",
        "\n",
        "# Example usage:\n",
        "train_inputs_ids = tokenized[\"train\"][\"input_ids\"]\n",
        "train_attention_masks = tokenized[\"train\"][\"attention_mask\"]\n",
        "train_images = tokenized[\"train\"][\"Image\"]\n",
        "train_labels = tokenized[\"train\"][\"Label\"]\n",
        "train_transforms = transforms.Compose([transforms.Resize((180, 320)),\n",
        "                                    transforms.ToTensor()])\n",
        "\n",
        "train_dataset = CustomDataset(\n",
        "    inputid_data=train_inputs_ids,\n",
        "    attention_data=train_attention_masks,\n",
        "    image_data=train_images,\n",
        "    label_data=train_labels,\n",
        "    img_transform=train_transforms\n",
        ")\n",
        "train_dataloader = torch.utils.data.DataLoader(train_dataset, batch_size=32, shuffle=True, collate_fn=data_collator)\n",
        "\n",
        "valid_inputs_ids = tokenized[\"validation\"][\"input_ids\"]\n",
        "valid_attention_masks = tokenized[\"validation\"][\"attention_mask\"]\n",
        "valid_images = tokenized[\"validation\"][\"Image\"]\n",
        "valid_labels = tokenized[\"validation\"][\"Label\"]\n",
        "valid_transforms = transforms.Compose([transforms.Resize((180, 320)),\n",
        "                                    transforms.ToTensor()])\n",
        "\n",
        "valid_dataset = CustomDataset(\n",
        "    inputid_data=valid_inputs_ids,\n",
        "    attention_data=valid_attention_masks,\n",
        "    image_data=valid_images,\n",
        "    label_data=valid_labels,\n",
        "    img_transform=valid_transforms\n",
        ")\n",
        "valid_dataloader = torch.utils.data.DataLoader(valid_dataset, batch_size=32, shuffle=True, collate_fn=data_collator)\n",
        "\n",
        "test_inputs_ids = tokenized[\"test\"][\"input_ids\"]\n",
        "test_attention_masks = tokenized[\"test\"][\"attention_mask\"]\n",
        "test_images= tokenized[\"test\"][\"Image\"]\n",
        "test_labels = tokenized[\"test\"][\"Label\"]\n",
        "test_transforms = transforms.Compose([transforms.Resize((180, 320)),\n",
        "                                    transforms.ToTensor()])\n",
        "\n",
        "test_dataset = CustomDataset(\n",
        "    inputid_data=test_inputs_ids,\n",
        "    attention_data=test_attention_masks,\n",
        "    image_data=test_images,\n",
        "    label_data=test_labels,\n",
        "    img_transform=test_transforms\n",
        ")\n",
        "test_dataloader = torch.utils.data.DataLoader(test_dataset, batch_size=32, shuffle=True, collate_fn=data_collator)\n",
        "\n"
      ]
    },
    {
      "cell_type": "code",
      "source": [
        "for batch in train_dataloader:\n",
        "    print(batch)\n",
        "    print(batch[\"input_ids\"].size())\n",
        "    print(batch[\"attention_mask\"].size())\n",
        "    print(batch[\"labels\"].size())\n",
        "    print(batch[\"img_input\"].size())\n",
        "    break"
      ],
      "metadata": {
        "id": "pX2z14igbvDN"
      },
      "execution_count": null,
      "outputs": []
    },
    {
      "cell_type": "code",
      "execution_count": null,
      "metadata": {
        "colab": {
          "base_uri": "https://localhost:8080/"
        },
        "id": "4ry8gbqudxIV",
        "outputId": "387938f2-366d-49af-a1b0-0cb66650add8"
      },
      "outputs": [
        {
          "output_type": "stream",
          "name": "stdout",
          "text": [
            "1878\n"
          ]
        },
        {
          "output_type": "stream",
          "name": "stderr",
          "text": [
            "/usr/local/lib/python3.8/dist-packages/transformers/optimization.py:306: FutureWarning: This implementation of AdamW is deprecated and will be removed in a future version. Use the PyTorch implementation torch.optim.AdamW instead, or set `no_deprecation_warning=True` to disable this warning\n",
            "  warnings.warn(\n"
          ]
        }
      ],
      "source": [
        "from transformers import AdamW, get_scheduler\n",
        "from transformers.optimization import get_linear_schedule_with_warmup\n",
        "\n",
        "optimizer = AdamW(model.parameters(), lr = 5e-5,eps = 1e-8)\n",
        "\n",
        "num_epochs = 3\n",
        "num_training_steps = num_epochs * len(train_dataloader)\n",
        "lr_scheduler = get_linear_schedule_with_warmup(\n",
        "    optimizer=optimizer,\n",
        "    num_warmup_steps=0,\n",
        "    num_training_steps = num_training_steps,)\n",
        "\n",
        "print(num_training_steps)"
      ]
    },
    {
      "cell_type": "code",
      "execution_count": null,
      "metadata": {
        "id": "QImUHknH6Z92"
      },
      "outputs": [],
      "source": [
        "from datasets import load_metric\n",
        "accuracy_metric = load_metric(\"accuracy\")\n",
        "f1_metric = load_metric(\"f1\")"
      ]
    },
    {
      "cell_type": "code",
      "execution_count": null,
      "metadata": {
        "id": "NVDU3_wadxIW",
        "colab": {
          "base_uri": "https://localhost:8080/"
        },
        "outputId": "da1daac5-fabd-4999-dbe5-4c134241a211"
      },
      "outputs": [
        {
          "output_type": "stream",
          "name": "stdout",
          "text": [
            "device: cuda\n"
          ]
        }
      ],
      "source": [
        "if torch.cuda.is_available():\n",
        "    device = torch.device('cuda')\n",
        "else:\n",
        "    device = torch.device('cpu')\n",
        "\n",
        "print('device:', device)"
      ]
    },
    {
      "cell_type": "code",
      "execution_count": null,
      "metadata": {
        "id": "_7cwrY0ndxIW"
      },
      "outputs": [],
      "source": [
        "\n",
        "def batch_items(batch, device):\n",
        "    input_ids = batch[\"input_ids\"].to(device)\n",
        "    attention_mask = batch[\"attention_mask\"].to(device)\n",
        "    img_input = batch[\"img_input\"].to(device)\n",
        "    label = batch[\"labels\"].to(device)\n",
        "    return {\"input_ids\": input_ids, \"attention_mask\": attention_mask, \"img_input\": img_input, \"label\": label}\n"
      ]
    },
    {
      "cell_type": "code",
      "source": [
        "from tqdm.auto import tqdm\n",
        "\n",
        "progress_bar_train = tqdm(range(num_training_steps))\n",
        "progress_bar_eval = tqdm(range(num_epochs*len(test_dataloader)))\n",
        "def train(loader, model, criterion, optimizer, epoch):\n",
        "    '''\n",
        "    Function for training.\n",
        "    '''\n",
        "    model = model.train()\n",
        "\n",
        "    for batch in train_dataloader:\n",
        "        batch = batch_items(batch, device)\n",
        "        outputs = model(**batch)\n",
        "        loss = criterion(output, batch[\"label\"])\n",
        "        loss.backward()\n",
        "\n",
        "        optimizer.step()\n",
        "        lr_scheduler.step()\n",
        "        optimizer.zero_grad()\n",
        "        progress_bar_train.update(1)\n",
        "\n",
        "\n",
        "def validate(loader, model, criterion, epoch):\n",
        "    '''\n",
        "    Function for validation.\n",
        "    '''\n",
        "    model = model.eval()\n",
        "    with torch.no_grad():\n",
        "        for batch in test_dataloader:\n",
        "            batch = batch_items(batch)\n",
        "            outputs = model(**batch)\n",
        "            logits = outputs.logits\n",
        "            predictions = torch.argmax(logits, dim=-1)\n",
        "            loss = criterion(outputs, )\n",
        "            accuracy_metric.add_batch(predictions=predictions, references=batch[\"label\"])\n",
        "            f1_metric.add_batch(predictions=predictions, references=batch[\"label\"])\n",
        "            progress_bar_eval.update(1)\n",
        "        \n",
        "    print(\"Accuracy:\", accuracy_metric.compute()[\"accuracy\"],f1_metric.compute(), \"Loss:\", loss)\n",
        " "
      ],
      "metadata": {
        "id": "KveadtusyQlx"
      },
      "execution_count": null,
      "outputs": []
    },
    {
      "cell_type": "code",
      "source": [
        "#Tidied this up a bit\n",
        "\n",
        "criterion = nn.CrossEntropyLoss()\n",
        "for epoch in range(num_epoch):\n",
        "    trn_loss = train(train_loader, model, criterion, optimizer, epoch)\n",
        "    val_loss = validate(val_loader, model, criterion, epoch)\n",
        "\n"
      ],
      "metadata": {
        "id": "1GwdI1ibyayc"
      },
      "execution_count": null,
      "outputs": []
    }
  ],
  "metadata": {
    "accelerator": "GPU",
    "colab": {
      "provenance": []
    },
    "gpuClass": "premium",
    "kernelspec": {
      "display_name": "Python 3",
      "language": "python",
      "name": "python3"
    },
    "language_info": {
      "name": "python",
      "version": "3.10.10"
    },
    "vscode": {
      "interpreter": {
        "hash": "736da3b4f0fc8403f431fd30031a27380bfabda0b6463f95e7f171c691f3a9f6"
      }
    },
    "widgets": {
      "application/vnd.jupyter.widget-state+json": {
        "3adda389ada14e6b97119162138e0434": {
          "model_module": "@jupyter-widgets/controls",
          "model_name": "HBoxModel",
          "model_module_version": "1.5.0",
          "state": {
            "_dom_classes": [],
            "_model_module": "@jupyter-widgets/controls",
            "_model_module_version": "1.5.0",
            "_model_name": "HBoxModel",
            "_view_count": null,
            "_view_module": "@jupyter-widgets/controls",
            "_view_module_version": "1.5.0",
            "_view_name": "HBoxView",
            "box_style": "",
            "children": [
              "IPY_MODEL_31b1ab12a1404015882de95e10ffd412",
              "IPY_MODEL_bd367ac0a9f4447f999fec7236071f69",
              "IPY_MODEL_dc0c3e0294b04baea674c37c3bef375e"
            ],
            "layout": "IPY_MODEL_5a53d3c91ca044dea81c1232b64cc7a9"
          }
        },
        "31b1ab12a1404015882de95e10ffd412": {
          "model_module": "@jupyter-widgets/controls",
          "model_name": "HTMLModel",
          "model_module_version": "1.5.0",
          "state": {
            "_dom_classes": [],
            "_model_module": "@jupyter-widgets/controls",
            "_model_module_version": "1.5.0",
            "_model_name": "HTMLModel",
            "_view_count": null,
            "_view_module": "@jupyter-widgets/controls",
            "_view_module_version": "1.5.0",
            "_view_name": "HTMLView",
            "description": "",
            "description_tooltip": null,
            "layout": "IPY_MODEL_97c7174146e943bcaf136e03ad9f1a99",
            "placeholder": "​",
            "style": "IPY_MODEL_37e349a6f7a94f9da62232160de97c74",
            "value": "100%"
          }
        },
        "bd367ac0a9f4447f999fec7236071f69": {
          "model_module": "@jupyter-widgets/controls",
          "model_name": "FloatProgressModel",
          "model_module_version": "1.5.0",
          "state": {
            "_dom_classes": [],
            "_model_module": "@jupyter-widgets/controls",
            "_model_module_version": "1.5.0",
            "_model_name": "FloatProgressModel",
            "_view_count": null,
            "_view_module": "@jupyter-widgets/controls",
            "_view_module_version": "1.5.0",
            "_view_name": "ProgressView",
            "bar_style": "success",
            "description": "",
            "description_tooltip": null,
            "layout": "IPY_MODEL_7b3304308cd8454bb8110f4ef7dd4445",
            "max": 21,
            "min": 0,
            "orientation": "horizontal",
            "style": "IPY_MODEL_c1287965d21b43238bb639d25ad41475",
            "value": 21
          }
        },
        "dc0c3e0294b04baea674c37c3bef375e": {
          "model_module": "@jupyter-widgets/controls",
          "model_name": "HTMLModel",
          "model_module_version": "1.5.0",
          "state": {
            "_dom_classes": [],
            "_model_module": "@jupyter-widgets/controls",
            "_model_module_version": "1.5.0",
            "_model_name": "HTMLModel",
            "_view_count": null,
            "_view_module": "@jupyter-widgets/controls",
            "_view_module_version": "1.5.0",
            "_view_name": "HTMLView",
            "description": "",
            "description_tooltip": null,
            "layout": "IPY_MODEL_52729e502b074d28ad11b39fa4532a7b",
            "placeholder": "​",
            "style": "IPY_MODEL_22e02bc1bb44449899d4686b99da4d23",
            "value": " 21/21 [00:01&lt;00:00, 17.62ba/s]"
          }
        },
        "5a53d3c91ca044dea81c1232b64cc7a9": {
          "model_module": "@jupyter-widgets/base",
          "model_name": "LayoutModel",
          "model_module_version": "1.2.0",
          "state": {
            "_model_module": "@jupyter-widgets/base",
            "_model_module_version": "1.2.0",
            "_model_name": "LayoutModel",
            "_view_count": null,
            "_view_module": "@jupyter-widgets/base",
            "_view_module_version": "1.2.0",
            "_view_name": "LayoutView",
            "align_content": null,
            "align_items": null,
            "align_self": null,
            "border": null,
            "bottom": null,
            "display": null,
            "flex": null,
            "flex_flow": null,
            "grid_area": null,
            "grid_auto_columns": null,
            "grid_auto_flow": null,
            "grid_auto_rows": null,
            "grid_column": null,
            "grid_gap": null,
            "grid_row": null,
            "grid_template_areas": null,
            "grid_template_columns": null,
            "grid_template_rows": null,
            "height": null,
            "justify_content": null,
            "justify_items": null,
            "left": null,
            "margin": null,
            "max_height": null,
            "max_width": null,
            "min_height": null,
            "min_width": null,
            "object_fit": null,
            "object_position": null,
            "order": null,
            "overflow": null,
            "overflow_x": null,
            "overflow_y": null,
            "padding": null,
            "right": null,
            "top": null,
            "visibility": null,
            "width": null
          }
        },
        "97c7174146e943bcaf136e03ad9f1a99": {
          "model_module": "@jupyter-widgets/base",
          "model_name": "LayoutModel",
          "model_module_version": "1.2.0",
          "state": {
            "_model_module": "@jupyter-widgets/base",
            "_model_module_version": "1.2.0",
            "_model_name": "LayoutModel",
            "_view_count": null,
            "_view_module": "@jupyter-widgets/base",
            "_view_module_version": "1.2.0",
            "_view_name": "LayoutView",
            "align_content": null,
            "align_items": null,
            "align_self": null,
            "border": null,
            "bottom": null,
            "display": null,
            "flex": null,
            "flex_flow": null,
            "grid_area": null,
            "grid_auto_columns": null,
            "grid_auto_flow": null,
            "grid_auto_rows": null,
            "grid_column": null,
            "grid_gap": null,
            "grid_row": null,
            "grid_template_areas": null,
            "grid_template_columns": null,
            "grid_template_rows": null,
            "height": null,
            "justify_content": null,
            "justify_items": null,
            "left": null,
            "margin": null,
            "max_height": null,
            "max_width": null,
            "min_height": null,
            "min_width": null,
            "object_fit": null,
            "object_position": null,
            "order": null,
            "overflow": null,
            "overflow_x": null,
            "overflow_y": null,
            "padding": null,
            "right": null,
            "top": null,
            "visibility": null,
            "width": null
          }
        },
        "37e349a6f7a94f9da62232160de97c74": {
          "model_module": "@jupyter-widgets/controls",
          "model_name": "DescriptionStyleModel",
          "model_module_version": "1.5.0",
          "state": {
            "_model_module": "@jupyter-widgets/controls",
            "_model_module_version": "1.5.0",
            "_model_name": "DescriptionStyleModel",
            "_view_count": null,
            "_view_module": "@jupyter-widgets/base",
            "_view_module_version": "1.2.0",
            "_view_name": "StyleView",
            "description_width": ""
          }
        },
        "7b3304308cd8454bb8110f4ef7dd4445": {
          "model_module": "@jupyter-widgets/base",
          "model_name": "LayoutModel",
          "model_module_version": "1.2.0",
          "state": {
            "_model_module": "@jupyter-widgets/base",
            "_model_module_version": "1.2.0",
            "_model_name": "LayoutModel",
            "_view_count": null,
            "_view_module": "@jupyter-widgets/base",
            "_view_module_version": "1.2.0",
            "_view_name": "LayoutView",
            "align_content": null,
            "align_items": null,
            "align_self": null,
            "border": null,
            "bottom": null,
            "display": null,
            "flex": null,
            "flex_flow": null,
            "grid_area": null,
            "grid_auto_columns": null,
            "grid_auto_flow": null,
            "grid_auto_rows": null,
            "grid_column": null,
            "grid_gap": null,
            "grid_row": null,
            "grid_template_areas": null,
            "grid_template_columns": null,
            "grid_template_rows": null,
            "height": null,
            "justify_content": null,
            "justify_items": null,
            "left": null,
            "margin": null,
            "max_height": null,
            "max_width": null,
            "min_height": null,
            "min_width": null,
            "object_fit": null,
            "object_position": null,
            "order": null,
            "overflow": null,
            "overflow_x": null,
            "overflow_y": null,
            "padding": null,
            "right": null,
            "top": null,
            "visibility": null,
            "width": null
          }
        },
        "c1287965d21b43238bb639d25ad41475": {
          "model_module": "@jupyter-widgets/controls",
          "model_name": "ProgressStyleModel",
          "model_module_version": "1.5.0",
          "state": {
            "_model_module": "@jupyter-widgets/controls",
            "_model_module_version": "1.5.0",
            "_model_name": "ProgressStyleModel",
            "_view_count": null,
            "_view_module": "@jupyter-widgets/base",
            "_view_module_version": "1.2.0",
            "_view_name": "StyleView",
            "bar_color": null,
            "description_width": ""
          }
        },
        "52729e502b074d28ad11b39fa4532a7b": {
          "model_module": "@jupyter-widgets/base",
          "model_name": "LayoutModel",
          "model_module_version": "1.2.0",
          "state": {
            "_model_module": "@jupyter-widgets/base",
            "_model_module_version": "1.2.0",
            "_model_name": "LayoutModel",
            "_view_count": null,
            "_view_module": "@jupyter-widgets/base",
            "_view_module_version": "1.2.0",
            "_view_name": "LayoutView",
            "align_content": null,
            "align_items": null,
            "align_self": null,
            "border": null,
            "bottom": null,
            "display": null,
            "flex": null,
            "flex_flow": null,
            "grid_area": null,
            "grid_auto_columns": null,
            "grid_auto_flow": null,
            "grid_auto_rows": null,
            "grid_column": null,
            "grid_gap": null,
            "grid_row": null,
            "grid_template_areas": null,
            "grid_template_columns": null,
            "grid_template_rows": null,
            "height": null,
            "justify_content": null,
            "justify_items": null,
            "left": null,
            "margin": null,
            "max_height": null,
            "max_width": null,
            "min_height": null,
            "min_width": null,
            "object_fit": null,
            "object_position": null,
            "order": null,
            "overflow": null,
            "overflow_x": null,
            "overflow_y": null,
            "padding": null,
            "right": null,
            "top": null,
            "visibility": null,
            "width": null
          }
        },
        "22e02bc1bb44449899d4686b99da4d23": {
          "model_module": "@jupyter-widgets/controls",
          "model_name": "DescriptionStyleModel",
          "model_module_version": "1.5.0",
          "state": {
            "_model_module": "@jupyter-widgets/controls",
            "_model_module_version": "1.5.0",
            "_model_name": "DescriptionStyleModel",
            "_view_count": null,
            "_view_module": "@jupyter-widgets/base",
            "_view_module_version": "1.2.0",
            "_view_name": "StyleView",
            "description_width": ""
          }
        },
        "b22bff630d8341f5b8a9c1178625e93f": {
          "model_module": "@jupyter-widgets/controls",
          "model_name": "HBoxModel",
          "model_module_version": "1.5.0",
          "state": {
            "_dom_classes": [],
            "_model_module": "@jupyter-widgets/controls",
            "_model_module_version": "1.5.0",
            "_model_name": "HBoxModel",
            "_view_count": null,
            "_view_module": "@jupyter-widgets/controls",
            "_view_module_version": "1.5.0",
            "_view_name": "HBoxView",
            "box_style": "",
            "children": [
              "IPY_MODEL_f4c30c1b0aee4b64a368b538696ce6c7",
              "IPY_MODEL_d66c850b65854404a635f71753e50e2d",
              "IPY_MODEL_2aafc0bdf51e4a2cb9aeaea15fc14103"
            ],
            "layout": "IPY_MODEL_c6197b5cb00d428db6ea1d681bd28f93"
          }
        },
        "f4c30c1b0aee4b64a368b538696ce6c7": {
          "model_module": "@jupyter-widgets/controls",
          "model_name": "HTMLModel",
          "model_module_version": "1.5.0",
          "state": {
            "_dom_classes": [],
            "_model_module": "@jupyter-widgets/controls",
            "_model_module_version": "1.5.0",
            "_model_name": "HTMLModel",
            "_view_count": null,
            "_view_module": "@jupyter-widgets/controls",
            "_view_module_version": "1.5.0",
            "_view_name": "HTMLView",
            "description": "",
            "description_tooltip": null,
            "layout": "IPY_MODEL_9d332e8c3e914e85a2c756537444b25e",
            "placeholder": "​",
            "style": "IPY_MODEL_2cab6accbc624ebb96adacfecbd522cd",
            "value": "100%"
          }
        },
        "d66c850b65854404a635f71753e50e2d": {
          "model_module": "@jupyter-widgets/controls",
          "model_name": "FloatProgressModel",
          "model_module_version": "1.5.0",
          "state": {
            "_dom_classes": [],
            "_model_module": "@jupyter-widgets/controls",
            "_model_module_version": "1.5.0",
            "_model_name": "FloatProgressModel",
            "_view_count": null,
            "_view_module": "@jupyter-widgets/controls",
            "_view_module_version": "1.5.0",
            "_view_name": "ProgressView",
            "bar_style": "success",
            "description": "",
            "description_tooltip": null,
            "layout": "IPY_MODEL_22fb63683d684004a9c182efc77eee69",
            "max": 3,
            "min": 0,
            "orientation": "horizontal",
            "style": "IPY_MODEL_61b72475d428411eb97159a3b494fd64",
            "value": 3
          }
        },
        "2aafc0bdf51e4a2cb9aeaea15fc14103": {
          "model_module": "@jupyter-widgets/controls",
          "model_name": "HTMLModel",
          "model_module_version": "1.5.0",
          "state": {
            "_dom_classes": [],
            "_model_module": "@jupyter-widgets/controls",
            "_model_module_version": "1.5.0",
            "_model_name": "HTMLModel",
            "_view_count": null,
            "_view_module": "@jupyter-widgets/controls",
            "_view_module_version": "1.5.0",
            "_view_name": "HTMLView",
            "description": "",
            "description_tooltip": null,
            "layout": "IPY_MODEL_c9d5836b0e324b339a56af2a4caebbea",
            "placeholder": "​",
            "style": "IPY_MODEL_630325c8d78d44eab8d31d4032d72ebe",
            "value": " 3/3 [00:00&lt;00:00,  5.85ba/s]"
          }
        },
        "c6197b5cb00d428db6ea1d681bd28f93": {
          "model_module": "@jupyter-widgets/base",
          "model_name": "LayoutModel",
          "model_module_version": "1.2.0",
          "state": {
            "_model_module": "@jupyter-widgets/base",
            "_model_module_version": "1.2.0",
            "_model_name": "LayoutModel",
            "_view_count": null,
            "_view_module": "@jupyter-widgets/base",
            "_view_module_version": "1.2.0",
            "_view_name": "LayoutView",
            "align_content": null,
            "align_items": null,
            "align_self": null,
            "border": null,
            "bottom": null,
            "display": null,
            "flex": null,
            "flex_flow": null,
            "grid_area": null,
            "grid_auto_columns": null,
            "grid_auto_flow": null,
            "grid_auto_rows": null,
            "grid_column": null,
            "grid_gap": null,
            "grid_row": null,
            "grid_template_areas": null,
            "grid_template_columns": null,
            "grid_template_rows": null,
            "height": null,
            "justify_content": null,
            "justify_items": null,
            "left": null,
            "margin": null,
            "max_height": null,
            "max_width": null,
            "min_height": null,
            "min_width": null,
            "object_fit": null,
            "object_position": null,
            "order": null,
            "overflow": null,
            "overflow_x": null,
            "overflow_y": null,
            "padding": null,
            "right": null,
            "top": null,
            "visibility": null,
            "width": null
          }
        },
        "9d332e8c3e914e85a2c756537444b25e": {
          "model_module": "@jupyter-widgets/base",
          "model_name": "LayoutModel",
          "model_module_version": "1.2.0",
          "state": {
            "_model_module": "@jupyter-widgets/base",
            "_model_module_version": "1.2.0",
            "_model_name": "LayoutModel",
            "_view_count": null,
            "_view_module": "@jupyter-widgets/base",
            "_view_module_version": "1.2.0",
            "_view_name": "LayoutView",
            "align_content": null,
            "align_items": null,
            "align_self": null,
            "border": null,
            "bottom": null,
            "display": null,
            "flex": null,
            "flex_flow": null,
            "grid_area": null,
            "grid_auto_columns": null,
            "grid_auto_flow": null,
            "grid_auto_rows": null,
            "grid_column": null,
            "grid_gap": null,
            "grid_row": null,
            "grid_template_areas": null,
            "grid_template_columns": null,
            "grid_template_rows": null,
            "height": null,
            "justify_content": null,
            "justify_items": null,
            "left": null,
            "margin": null,
            "max_height": null,
            "max_width": null,
            "min_height": null,
            "min_width": null,
            "object_fit": null,
            "object_position": null,
            "order": null,
            "overflow": null,
            "overflow_x": null,
            "overflow_y": null,
            "padding": null,
            "right": null,
            "top": null,
            "visibility": null,
            "width": null
          }
        },
        "2cab6accbc624ebb96adacfecbd522cd": {
          "model_module": "@jupyter-widgets/controls",
          "model_name": "DescriptionStyleModel",
          "model_module_version": "1.5.0",
          "state": {
            "_model_module": "@jupyter-widgets/controls",
            "_model_module_version": "1.5.0",
            "_model_name": "DescriptionStyleModel",
            "_view_count": null,
            "_view_module": "@jupyter-widgets/base",
            "_view_module_version": "1.2.0",
            "_view_name": "StyleView",
            "description_width": ""
          }
        },
        "22fb63683d684004a9c182efc77eee69": {
          "model_module": "@jupyter-widgets/base",
          "model_name": "LayoutModel",
          "model_module_version": "1.2.0",
          "state": {
            "_model_module": "@jupyter-widgets/base",
            "_model_module_version": "1.2.0",
            "_model_name": "LayoutModel",
            "_view_count": null,
            "_view_module": "@jupyter-widgets/base",
            "_view_module_version": "1.2.0",
            "_view_name": "LayoutView",
            "align_content": null,
            "align_items": null,
            "align_self": null,
            "border": null,
            "bottom": null,
            "display": null,
            "flex": null,
            "flex_flow": null,
            "grid_area": null,
            "grid_auto_columns": null,
            "grid_auto_flow": null,
            "grid_auto_rows": null,
            "grid_column": null,
            "grid_gap": null,
            "grid_row": null,
            "grid_template_areas": null,
            "grid_template_columns": null,
            "grid_template_rows": null,
            "height": null,
            "justify_content": null,
            "justify_items": null,
            "left": null,
            "margin": null,
            "max_height": null,
            "max_width": null,
            "min_height": null,
            "min_width": null,
            "object_fit": null,
            "object_position": null,
            "order": null,
            "overflow": null,
            "overflow_x": null,
            "overflow_y": null,
            "padding": null,
            "right": null,
            "top": null,
            "visibility": null,
            "width": null
          }
        },
        "61b72475d428411eb97159a3b494fd64": {
          "model_module": "@jupyter-widgets/controls",
          "model_name": "ProgressStyleModel",
          "model_module_version": "1.5.0",
          "state": {
            "_model_module": "@jupyter-widgets/controls",
            "_model_module_version": "1.5.0",
            "_model_name": "ProgressStyleModel",
            "_view_count": null,
            "_view_module": "@jupyter-widgets/base",
            "_view_module_version": "1.2.0",
            "_view_name": "StyleView",
            "bar_color": null,
            "description_width": ""
          }
        },
        "c9d5836b0e324b339a56af2a4caebbea": {
          "model_module": "@jupyter-widgets/base",
          "model_name": "LayoutModel",
          "model_module_version": "1.2.0",
          "state": {
            "_model_module": "@jupyter-widgets/base",
            "_model_module_version": "1.2.0",
            "_model_name": "LayoutModel",
            "_view_count": null,
            "_view_module": "@jupyter-widgets/base",
            "_view_module_version": "1.2.0",
            "_view_name": "LayoutView",
            "align_content": null,
            "align_items": null,
            "align_self": null,
            "border": null,
            "bottom": null,
            "display": null,
            "flex": null,
            "flex_flow": null,
            "grid_area": null,
            "grid_auto_columns": null,
            "grid_auto_flow": null,
            "grid_auto_rows": null,
            "grid_column": null,
            "grid_gap": null,
            "grid_row": null,
            "grid_template_areas": null,
            "grid_template_columns": null,
            "grid_template_rows": null,
            "height": null,
            "justify_content": null,
            "justify_items": null,
            "left": null,
            "margin": null,
            "max_height": null,
            "max_width": null,
            "min_height": null,
            "min_width": null,
            "object_fit": null,
            "object_position": null,
            "order": null,
            "overflow": null,
            "overflow_x": null,
            "overflow_y": null,
            "padding": null,
            "right": null,
            "top": null,
            "visibility": null,
            "width": null
          }
        },
        "630325c8d78d44eab8d31d4032d72ebe": {
          "model_module": "@jupyter-widgets/controls",
          "model_name": "DescriptionStyleModel",
          "model_module_version": "1.5.0",
          "state": {
            "_model_module": "@jupyter-widgets/controls",
            "_model_module_version": "1.5.0",
            "_model_name": "DescriptionStyleModel",
            "_view_count": null,
            "_view_module": "@jupyter-widgets/base",
            "_view_module_version": "1.2.0",
            "_view_name": "StyleView",
            "description_width": ""
          }
        },
        "578f1792e8a94a739592346c9b807e7a": {
          "model_module": "@jupyter-widgets/controls",
          "model_name": "HBoxModel",
          "model_module_version": "1.5.0",
          "state": {
            "_dom_classes": [],
            "_model_module": "@jupyter-widgets/controls",
            "_model_module_version": "1.5.0",
            "_model_name": "HBoxModel",
            "_view_count": null,
            "_view_module": "@jupyter-widgets/controls",
            "_view_module_version": "1.5.0",
            "_view_name": "HBoxView",
            "box_style": "",
            "children": [
              "IPY_MODEL_b0ee7c6412664c0baeae7a9e365f8ab9",
              "IPY_MODEL_1921b4601ef84f358e6e2f55f61ec8a5",
              "IPY_MODEL_acbc847da89e4a909d324ffcb7a42581"
            ],
            "layout": "IPY_MODEL_01934a9e005d4539a39c75061e25acff"
          }
        },
        "b0ee7c6412664c0baeae7a9e365f8ab9": {
          "model_module": "@jupyter-widgets/controls",
          "model_name": "HTMLModel",
          "model_module_version": "1.5.0",
          "state": {
            "_dom_classes": [],
            "_model_module": "@jupyter-widgets/controls",
            "_model_module_version": "1.5.0",
            "_model_name": "HTMLModel",
            "_view_count": null,
            "_view_module": "@jupyter-widgets/controls",
            "_view_module_version": "1.5.0",
            "_view_name": "HTMLView",
            "description": "",
            "description_tooltip": null,
            "layout": "IPY_MODEL_27ca5d819db7458c9d8cb35857680f36",
            "placeholder": "​",
            "style": "IPY_MODEL_0a7e67f9728c4ca4b2243a11f0c283b7",
            "value": "100%"
          }
        },
        "1921b4601ef84f358e6e2f55f61ec8a5": {
          "model_module": "@jupyter-widgets/controls",
          "model_name": "FloatProgressModel",
          "model_module_version": "1.5.0",
          "state": {
            "_dom_classes": [],
            "_model_module": "@jupyter-widgets/controls",
            "_model_module_version": "1.5.0",
            "_model_name": "FloatProgressModel",
            "_view_count": null,
            "_view_module": "@jupyter-widgets/controls",
            "_view_module_version": "1.5.0",
            "_view_name": "ProgressView",
            "bar_style": "success",
            "description": "",
            "description_tooltip": null,
            "layout": "IPY_MODEL_5f4d88c746b246b580d92c7e99dd8807",
            "max": 3,
            "min": 0,
            "orientation": "horizontal",
            "style": "IPY_MODEL_e6364c2ae0a54e3ebc76a20bff31d1b0",
            "value": 3
          }
        },
        "acbc847da89e4a909d324ffcb7a42581": {
          "model_module": "@jupyter-widgets/controls",
          "model_name": "HTMLModel",
          "model_module_version": "1.5.0",
          "state": {
            "_dom_classes": [],
            "_model_module": "@jupyter-widgets/controls",
            "_model_module_version": "1.5.0",
            "_model_name": "HTMLModel",
            "_view_count": null,
            "_view_module": "@jupyter-widgets/controls",
            "_view_module_version": "1.5.0",
            "_view_name": "HTMLView",
            "description": "",
            "description_tooltip": null,
            "layout": "IPY_MODEL_18432f7208c14c6190c38273938faec2",
            "placeholder": "​",
            "style": "IPY_MODEL_1ef33bdbea884a2faa96cef05acbdeca",
            "value": " 3/3 [00:00&lt;00:00, 14.85ba/s]"
          }
        },
        "01934a9e005d4539a39c75061e25acff": {
          "model_module": "@jupyter-widgets/base",
          "model_name": "LayoutModel",
          "model_module_version": "1.2.0",
          "state": {
            "_model_module": "@jupyter-widgets/base",
            "_model_module_version": "1.2.0",
            "_model_name": "LayoutModel",
            "_view_count": null,
            "_view_module": "@jupyter-widgets/base",
            "_view_module_version": "1.2.0",
            "_view_name": "LayoutView",
            "align_content": null,
            "align_items": null,
            "align_self": null,
            "border": null,
            "bottom": null,
            "display": null,
            "flex": null,
            "flex_flow": null,
            "grid_area": null,
            "grid_auto_columns": null,
            "grid_auto_flow": null,
            "grid_auto_rows": null,
            "grid_column": null,
            "grid_gap": null,
            "grid_row": null,
            "grid_template_areas": null,
            "grid_template_columns": null,
            "grid_template_rows": null,
            "height": null,
            "justify_content": null,
            "justify_items": null,
            "left": null,
            "margin": null,
            "max_height": null,
            "max_width": null,
            "min_height": null,
            "min_width": null,
            "object_fit": null,
            "object_position": null,
            "order": null,
            "overflow": null,
            "overflow_x": null,
            "overflow_y": null,
            "padding": null,
            "right": null,
            "top": null,
            "visibility": null,
            "width": null
          }
        },
        "27ca5d819db7458c9d8cb35857680f36": {
          "model_module": "@jupyter-widgets/base",
          "model_name": "LayoutModel",
          "model_module_version": "1.2.0",
          "state": {
            "_model_module": "@jupyter-widgets/base",
            "_model_module_version": "1.2.0",
            "_model_name": "LayoutModel",
            "_view_count": null,
            "_view_module": "@jupyter-widgets/base",
            "_view_module_version": "1.2.0",
            "_view_name": "LayoutView",
            "align_content": null,
            "align_items": null,
            "align_self": null,
            "border": null,
            "bottom": null,
            "display": null,
            "flex": null,
            "flex_flow": null,
            "grid_area": null,
            "grid_auto_columns": null,
            "grid_auto_flow": null,
            "grid_auto_rows": null,
            "grid_column": null,
            "grid_gap": null,
            "grid_row": null,
            "grid_template_areas": null,
            "grid_template_columns": null,
            "grid_template_rows": null,
            "height": null,
            "justify_content": null,
            "justify_items": null,
            "left": null,
            "margin": null,
            "max_height": null,
            "max_width": null,
            "min_height": null,
            "min_width": null,
            "object_fit": null,
            "object_position": null,
            "order": null,
            "overflow": null,
            "overflow_x": null,
            "overflow_y": null,
            "padding": null,
            "right": null,
            "top": null,
            "visibility": null,
            "width": null
          }
        },
        "0a7e67f9728c4ca4b2243a11f0c283b7": {
          "model_module": "@jupyter-widgets/controls",
          "model_name": "DescriptionStyleModel",
          "model_module_version": "1.5.0",
          "state": {
            "_model_module": "@jupyter-widgets/controls",
            "_model_module_version": "1.5.0",
            "_model_name": "DescriptionStyleModel",
            "_view_count": null,
            "_view_module": "@jupyter-widgets/base",
            "_view_module_version": "1.2.0",
            "_view_name": "StyleView",
            "description_width": ""
          }
        },
        "5f4d88c746b246b580d92c7e99dd8807": {
          "model_module": "@jupyter-widgets/base",
          "model_name": "LayoutModel",
          "model_module_version": "1.2.0",
          "state": {
            "_model_module": "@jupyter-widgets/base",
            "_model_module_version": "1.2.0",
            "_model_name": "LayoutModel",
            "_view_count": null,
            "_view_module": "@jupyter-widgets/base",
            "_view_module_version": "1.2.0",
            "_view_name": "LayoutView",
            "align_content": null,
            "align_items": null,
            "align_self": null,
            "border": null,
            "bottom": null,
            "display": null,
            "flex": null,
            "flex_flow": null,
            "grid_area": null,
            "grid_auto_columns": null,
            "grid_auto_flow": null,
            "grid_auto_rows": null,
            "grid_column": null,
            "grid_gap": null,
            "grid_row": null,
            "grid_template_areas": null,
            "grid_template_columns": null,
            "grid_template_rows": null,
            "height": null,
            "justify_content": null,
            "justify_items": null,
            "left": null,
            "margin": null,
            "max_height": null,
            "max_width": null,
            "min_height": null,
            "min_width": null,
            "object_fit": null,
            "object_position": null,
            "order": null,
            "overflow": null,
            "overflow_x": null,
            "overflow_y": null,
            "padding": null,
            "right": null,
            "top": null,
            "visibility": null,
            "width": null
          }
        },
        "e6364c2ae0a54e3ebc76a20bff31d1b0": {
          "model_module": "@jupyter-widgets/controls",
          "model_name": "ProgressStyleModel",
          "model_module_version": "1.5.0",
          "state": {
            "_model_module": "@jupyter-widgets/controls",
            "_model_module_version": "1.5.0",
            "_model_name": "ProgressStyleModel",
            "_view_count": null,
            "_view_module": "@jupyter-widgets/base",
            "_view_module_version": "1.2.0",
            "_view_name": "StyleView",
            "bar_color": null,
            "description_width": ""
          }
        },
        "18432f7208c14c6190c38273938faec2": {
          "model_module": "@jupyter-widgets/base",
          "model_name": "LayoutModel",
          "model_module_version": "1.2.0",
          "state": {
            "_model_module": "@jupyter-widgets/base",
            "_model_module_version": "1.2.0",
            "_model_name": "LayoutModel",
            "_view_count": null,
            "_view_module": "@jupyter-widgets/base",
            "_view_module_version": "1.2.0",
            "_view_name": "LayoutView",
            "align_content": null,
            "align_items": null,
            "align_self": null,
            "border": null,
            "bottom": null,
            "display": null,
            "flex": null,
            "flex_flow": null,
            "grid_area": null,
            "grid_auto_columns": null,
            "grid_auto_flow": null,
            "grid_auto_rows": null,
            "grid_column": null,
            "grid_gap": null,
            "grid_row": null,
            "grid_template_areas": null,
            "grid_template_columns": null,
            "grid_template_rows": null,
            "height": null,
            "justify_content": null,
            "justify_items": null,
            "left": null,
            "margin": null,
            "max_height": null,
            "max_width": null,
            "min_height": null,
            "min_width": null,
            "object_fit": null,
            "object_position": null,
            "order": null,
            "overflow": null,
            "overflow_x": null,
            "overflow_y": null,
            "padding": null,
            "right": null,
            "top": null,
            "visibility": null,
            "width": null
          }
        },
        "1ef33bdbea884a2faa96cef05acbdeca": {
          "model_module": "@jupyter-widgets/controls",
          "model_name": "DescriptionStyleModel",
          "model_module_version": "1.5.0",
          "state": {
            "_model_module": "@jupyter-widgets/controls",
            "_model_module_version": "1.5.0",
            "_model_name": "DescriptionStyleModel",
            "_view_count": null,
            "_view_module": "@jupyter-widgets/base",
            "_view_module_version": "1.2.0",
            "_view_name": "StyleView",
            "description_width": ""
          }
        }
      }
    }
  },
  "nbformat": 4,
  "nbformat_minor": 0
}