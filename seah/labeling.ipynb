{
 "cells": [
  {
   "attachments": {},
   "cell_type": "markdown",
   "id": "5ebe81a2",
   "metadata": {},
   "source": [
    "### 필요한 라이브러리 불러오기 및 상수 선언"
   ]
  },
  {
   "cell_type": "code",
   "execution_count": 1,
   "id": "189c6de1",
   "metadata": {},
   "outputs": [],
   "source": [
    "import pandas as pd\n",
    "\n",
    "import warnings\n",
    "warnings.filterwarnings('ignore')"
   ]
  },
  {
   "cell_type": "code",
   "execution_count": 2,
   "id": "a36263c4",
   "metadata": {},
   "outputs": [],
   "source": [
    "# 앞뒤로 각각 몇 개의 데이터를 기준을 삼을 것인지\n",
    "\n",
    "NUM_NEIGHBORS_19 = 30   # 19년 데이터 \n",
    "NUM_NEIGHBORS = 5       # 19년 이후 데이터 "
   ]
  },
  {
   "cell_type": "markdown",
   "id": "80154a47",
   "metadata": {},
   "source": [
    "### 데이터셋 가져오기"
   ]
  },
  {
   "cell_type": "code",
   "execution_count": 3,
   "id": "17d1a141",
   "metadata": {},
   "outputs": [],
   "source": [
    "# path 설정\n",
    "DATA_PATH = '/Users/sea/YBIGTAlab/project0/git0/datasets/thumbnail_csv/'\n",
    "\n",
    "data19 = pd.read_csv(DATA_PATH + '2019.csv').sort_values(by='Published')\n",
    "data20 = pd.read_csv(DATA_PATH + '2020.csv').sort_values(by='Published')\n",
    "data21 = pd.read_csv(DATA_PATH + '2021.csv').sort_values(by='Published')\n",
    "data22 = pd.read_csv(DATA_PATH + '2022.csv').sort_values(by='Published')\n",
    "data23 = pd.read_csv(DATA_PATH + '2023.csv').sort_values(by='Published')"
   ]
  },
  {
   "cell_type": "code",
   "execution_count": 4,
   "id": "11e3e436",
   "metadata": {},
   "outputs": [],
   "source": [
    "# dataset 하나로 합치기\n",
    "dataFull = pd.concat((data19, data20, data21, data22, data23))\n",
    "\n",
    "# index 초기화 및 불필요한 column 제거\n",
    "dataFull.reset_index(inplace=True)\n",
    "dataFull.drop(['index','Unnamed: 0'], axis=1, inplace=True)"
   ]
  },
  {
   "cell_type": "code",
   "execution_count": 5,
   "id": "162c1b43",
   "metadata": {},
   "outputs": [
    {
     "data": {
      "text/plain": [
       "Published       0\n",
       "ThumbnailUrl    0\n",
       "ViewCount       0\n",
       "VideoId         0\n",
       "dtype: int64"
      ]
     },
     "execution_count": 5,
     "metadata": {},
     "output_type": "execute_result"
    }
   ],
   "source": [
    "# 결측치 유무 확인\n",
    "dataFull.isnull().sum()"
   ]
  },
  {
   "cell_type": "code",
   "execution_count": 6,
   "id": "1052a63f",
   "metadata": {},
   "outputs": [],
   "source": [
    "# col 'Published' - datetime 형식으로 변경\n",
    "dataFull['Published'] = pd.to_datetime(dataFull.Published)\n",
    "\n",
    "# sort by 'Published'\n",
    "dataFull = dataFull.sort_values(by='Published')"
   ]
  },
  {
   "cell_type": "code",
   "execution_count": 7,
   "id": "a7ec0641",
   "metadata": {},
   "outputs": [],
   "source": [
    "# 19년 이전 / 19년 이후 데이터셋 분리\n",
    "before19 = dataFull[:len(data19)+NUM_NEIGHBORS_19].reset_index().drop('index', axis=1)\n",
    "after19 = dataFull[len(data19)-NUM_NEIGHBORS:].reset_index().drop('index', axis=1)"
   ]
  },
  {
   "attachments": {},
   "cell_type": "markdown",
   "id": "04cc44a0",
   "metadata": {},
   "source": [
    "### Labeling 함수 선언 및 실행"
   ]
  },
  {
   "cell_type": "code",
   "execution_count": 8,
   "id": "8fd532aa",
   "metadata": {},
   "outputs": [],
   "source": [
    "def getLabels(df, n) :\n",
    "\n",
    "    # input : dataset to get labels, number of neighbors to get mean of views\n",
    "    # output : dataset with labels and mean of neighbors\n",
    "\n",
    "    # create columns 'NeighborsMean' & 'label'\n",
    "    df['NeighborsMean'] = 0\n",
    "    df['label'] = 0\n",
    "    df = df.astype({'NeighborsMean':'int'})\n",
    "\n",
    "    for i in range(len(df)):\n",
    "        mean = 0\n",
    "\n",
    "        # [ : NUM_NEIGHBORS - 1 ]\n",
    "        if i in range(0, n):\n",
    "            mean = df.iloc[:i+n+1]['ViewCount'].mean()\n",
    "        \n",
    "        # [ NUM_NEIGHBORS : length - NUM_NEIGHBORS - 1 ]\n",
    "        elif i in range(n, len(df)-n):\n",
    "            mean = df.iloc[i-n:i+n+1]['ViewCount'].mean()\n",
    "        \n",
    "        # [ length - NUM_NEIGHBORS : ]\n",
    "        else:\n",
    "            mean = df.iloc[i-n:]['ViewCount'].mean()\n",
    "        \n",
    "        df['NeighborsMean'][i] = round(mean)\n",
    "        if df['ViewCount'][i] >= mean:\n",
    "            df['label'][i] = 1\n",
    "    \n",
    "    return df"
   ]
  },
  {
   "cell_type": "code",
   "execution_count": 9,
   "id": "295fcfe9",
   "metadata": {},
   "outputs": [],
   "source": [
    "before19 = getLabels(before19, NUM_NEIGHBORS_19)\n",
    "after19 = getLabels(after19, NUM_NEIGHBORS)"
   ]
  },
  {
   "attachments": {},
   "cell_type": "markdown",
   "id": "453700d9",
   "metadata": {},
   "source": [
    "### 19년 이전 및 이후 데이터 합치기"
   ]
  },
  {
   "cell_type": "code",
   "execution_count": 10,
   "id": "cf0c96c1",
   "metadata": {},
   "outputs": [],
   "source": [
    "dataLabeled = pd.concat((before19[:len(before19)-NUM_NEIGHBORS_19], after19[NUM_NEIGHBORS:]))\n",
    "dataLabeled = dataLabeled.reset_index().drop('index', axis=1)"
   ]
  },
  {
   "cell_type": "code",
   "execution_count": 11,
   "id": "24b0178a",
   "metadata": {},
   "outputs": [
    {
     "data": {
      "text/html": [
       "<style type=\"text/css\">\n",
       "</style>\n",
       "<table id=\"T_6e138\">\n",
       "  <thead>\n",
       "    <tr>\n",
       "      <th class=\"blank level0\" >&nbsp;</th>\n",
       "      <th id=\"T_6e138_level0_col0\" class=\"col_heading level0 col0\" >Published</th>\n",
       "      <th id=\"T_6e138_level0_col1\" class=\"col_heading level0 col1\" >ThumbnailUrl</th>\n",
       "      <th id=\"T_6e138_level0_col2\" class=\"col_heading level0 col2\" >ViewCount</th>\n",
       "      <th id=\"T_6e138_level0_col3\" class=\"col_heading level0 col3\" >VideoId</th>\n",
       "      <th id=\"T_6e138_level0_col4\" class=\"col_heading level0 col4\" >NeighborsMean</th>\n",
       "      <th id=\"T_6e138_level0_col5\" class=\"col_heading level0 col5\" >label</th>\n",
       "    </tr>\n",
       "  </thead>\n",
       "  <tbody>\n",
       "    <tr>\n",
       "      <th id=\"T_6e138_level0_row0\" class=\"row_heading level0 row0\" >0</th>\n",
       "      <td id=\"T_6e138_row0_col0\" class=\"data row0 col0\" >2019-01-03 10:00:00+00:00</td>\n",
       "      <td id=\"T_6e138_row0_col1\" class=\"data row0 col1\" >https://i.ytimg.com/vi/-4BvjRGDIAw/default.jpg</td>\n",
       "      <td id=\"T_6e138_row0_col2\" class=\"data row0 col2\" >38,478</td>\n",
       "      <td id=\"T_6e138_row0_col3\" class=\"data row0 col3\" >-4BvjRGDIAw</td>\n",
       "      <td id=\"T_6e138_row0_col4\" class=\"data row0 col4\" >219,834</td>\n",
       "      <td id=\"T_6e138_row0_col5\" class=\"data row0 col5\" >0</td>\n",
       "    </tr>\n",
       "    <tr>\n",
       "      <th id=\"T_6e138_level0_row1\" class=\"row_heading level0 row1\" >1</th>\n",
       "      <td id=\"T_6e138_row1_col0\" class=\"data row1 col0\" >2019-01-03 10:00:01+00:00</td>\n",
       "      <td id=\"T_6e138_row1_col1\" class=\"data row1 col1\" >https://i.ytimg.com/vi/HTpd6iJdxyk/default.jpg</td>\n",
       "      <td id=\"T_6e138_row1_col2\" class=\"data row1 col2\" >69,165</td>\n",
       "      <td id=\"T_6e138_row1_col3\" class=\"data row1 col3\" >HTpd6iJdxyk</td>\n",
       "      <td id=\"T_6e138_row1_col4\" class=\"data row1 col4\" >217,615</td>\n",
       "      <td id=\"T_6e138_row1_col5\" class=\"data row1 col5\" >0</td>\n",
       "    </tr>\n",
       "    <tr>\n",
       "      <th id=\"T_6e138_level0_row2\" class=\"row_heading level0 row2\" >2</th>\n",
       "      <td id=\"T_6e138_row2_col0\" class=\"data row2 col0\" >2019-01-04 08:40:26+00:00</td>\n",
       "      <td id=\"T_6e138_row2_col1\" class=\"data row2 col1\" >https://i.ytimg.com/vi/Tf7lwAJirNY/default.jpg</td>\n",
       "      <td id=\"T_6e138_row2_col2\" class=\"data row2 col2\" >98,047</td>\n",
       "      <td id=\"T_6e138_row2_col3\" class=\"data row2 col3\" >Tf7lwAJirNY</td>\n",
       "      <td id=\"T_6e138_row2_col4\" class=\"data row2 col4\" >214,952</td>\n",
       "      <td id=\"T_6e138_row2_col5\" class=\"data row2 col5\" >0</td>\n",
       "    </tr>\n",
       "    <tr>\n",
       "      <th id=\"T_6e138_level0_row3\" class=\"row_heading level0 row3\" >3</th>\n",
       "      <td id=\"T_6e138_row3_col0\" class=\"data row3 col0\" >2019-01-04 10:00:08+00:00</td>\n",
       "      <td id=\"T_6e138_row3_col1\" class=\"data row3 col1\" >https://i.ytimg.com/vi/l1LT2hccFfI/default.jpg</td>\n",
       "      <td id=\"T_6e138_row3_col2\" class=\"data row3 col2\" >85,222</td>\n",
       "      <td id=\"T_6e138_row3_col3\" class=\"data row3 col3\" >l1LT2hccFfI</td>\n",
       "      <td id=\"T_6e138_row3_col4\" class=\"data row3 col4\" >209,538</td>\n",
       "      <td id=\"T_6e138_row3_col5\" class=\"data row3 col5\" >0</td>\n",
       "    </tr>\n",
       "    <tr>\n",
       "      <th id=\"T_6e138_level0_row4\" class=\"row_heading level0 row4\" >4</th>\n",
       "      <td id=\"T_6e138_row4_col0\" class=\"data row4 col0\" >2019-01-05 13:04:41+00:00</td>\n",
       "      <td id=\"T_6e138_row4_col1\" class=\"data row4 col1\" >https://i.ytimg.com/vi/3cpJ6wSC3xI/default.jpg</td>\n",
       "      <td id=\"T_6e138_row4_col2\" class=\"data row4 col2\" >398,331</td>\n",
       "      <td id=\"T_6e138_row4_col3\" class=\"data row4 col3\" >3cpJ6wSC3xI</td>\n",
       "      <td id=\"T_6e138_row4_col4\" class=\"data row4 col4\" >219,777</td>\n",
       "      <td id=\"T_6e138_row4_col5\" class=\"data row4 col5\" >1</td>\n",
       "    </tr>\n",
       "  </tbody>\n",
       "</table>\n"
      ],
      "text/plain": [
       "<pandas.io.formats.style.Styler at 0x7febe00dce20>"
      ]
     },
     "execution_count": 11,
     "metadata": {},
     "output_type": "execute_result"
    }
   ],
   "source": [
    "dataLabeled.head().style.format(thousands=',')"
   ]
  },
  {
   "cell_type": "code",
   "execution_count": 12,
   "id": "22e58eb5",
   "metadata": {},
   "outputs": [
    {
     "data": {
      "text/html": [
       "<div>\n",
       "<style scoped>\n",
       "    .dataframe tbody tr th:only-of-type {\n",
       "        vertical-align: middle;\n",
       "    }\n",
       "\n",
       "    .dataframe tbody tr th {\n",
       "        vertical-align: top;\n",
       "    }\n",
       "\n",
       "    .dataframe thead th {\n",
       "        text-align: right;\n",
       "    }\n",
       "</style>\n",
       "<table border=\"1\" class=\"dataframe\">\n",
       "  <thead>\n",
       "    <tr style=\"text-align: right;\">\n",
       "      <th></th>\n",
       "      <th>ThumbnailUrl</th>\n",
       "      <th>VideoId</th>\n",
       "      <th>label</th>\n",
       "    </tr>\n",
       "  </thead>\n",
       "  <tbody>\n",
       "    <tr>\n",
       "      <th>0</th>\n",
       "      <td>https://i.ytimg.com/vi/-4BvjRGDIAw/default.jpg</td>\n",
       "      <td>-4BvjRGDIAw</td>\n",
       "      <td>0</td>\n",
       "    </tr>\n",
       "    <tr>\n",
       "      <th>1</th>\n",
       "      <td>https://i.ytimg.com/vi/HTpd6iJdxyk/default.jpg</td>\n",
       "      <td>HTpd6iJdxyk</td>\n",
       "      <td>0</td>\n",
       "    </tr>\n",
       "    <tr>\n",
       "      <th>2</th>\n",
       "      <td>https://i.ytimg.com/vi/Tf7lwAJirNY/default.jpg</td>\n",
       "      <td>Tf7lwAJirNY</td>\n",
       "      <td>0</td>\n",
       "    </tr>\n",
       "    <tr>\n",
       "      <th>3</th>\n",
       "      <td>https://i.ytimg.com/vi/l1LT2hccFfI/default.jpg</td>\n",
       "      <td>l1LT2hccFfI</td>\n",
       "      <td>0</td>\n",
       "    </tr>\n",
       "    <tr>\n",
       "      <th>4</th>\n",
       "      <td>https://i.ytimg.com/vi/3cpJ6wSC3xI/default.jpg</td>\n",
       "      <td>3cpJ6wSC3xI</td>\n",
       "      <td>1</td>\n",
       "    </tr>\n",
       "    <tr>\n",
       "      <th>...</th>\n",
       "      <td>...</td>\n",
       "      <td>...</td>\n",
       "      <td>...</td>\n",
       "    </tr>\n",
       "    <tr>\n",
       "      <th>1853</th>\n",
       "      <td>https://i.ytimg.com/vi/nRBLhMZjazk/default.jpg</td>\n",
       "      <td>nRBLhMZjazk</td>\n",
       "      <td>0</td>\n",
       "    </tr>\n",
       "    <tr>\n",
       "      <th>1854</th>\n",
       "      <td>https://i.ytimg.com/vi/JgkdgAfTdBk/default.jpg</td>\n",
       "      <td>JgkdgAfTdBk</td>\n",
       "      <td>1</td>\n",
       "    </tr>\n",
       "    <tr>\n",
       "      <th>1855</th>\n",
       "      <td>https://i.ytimg.com/vi/mdsaZz5WVHU/default.jpg</td>\n",
       "      <td>mdsaZz5WVHU</td>\n",
       "      <td>1</td>\n",
       "    </tr>\n",
       "    <tr>\n",
       "      <th>1856</th>\n",
       "      <td>https://i.ytimg.com/vi/8hSds3puPQY/default.jpg</td>\n",
       "      <td>8hSds3puPQY</td>\n",
       "      <td>0</td>\n",
       "    </tr>\n",
       "    <tr>\n",
       "      <th>1857</th>\n",
       "      <td>https://i.ytimg.com/vi/PhWyC9sPF0M/default.jpg</td>\n",
       "      <td>PhWyC9sPF0M</td>\n",
       "      <td>0</td>\n",
       "    </tr>\n",
       "  </tbody>\n",
       "</table>\n",
       "<p>1858 rows × 3 columns</p>\n",
       "</div>"
      ],
      "text/plain": [
       "                                        ThumbnailUrl      VideoId  label\n",
       "0     https://i.ytimg.com/vi/-4BvjRGDIAw/default.jpg  -4BvjRGDIAw      0\n",
       "1     https://i.ytimg.com/vi/HTpd6iJdxyk/default.jpg  HTpd6iJdxyk      0\n",
       "2     https://i.ytimg.com/vi/Tf7lwAJirNY/default.jpg  Tf7lwAJirNY      0\n",
       "3     https://i.ytimg.com/vi/l1LT2hccFfI/default.jpg  l1LT2hccFfI      0\n",
       "4     https://i.ytimg.com/vi/3cpJ6wSC3xI/default.jpg  3cpJ6wSC3xI      1\n",
       "...                                              ...          ...    ...\n",
       "1853  https://i.ytimg.com/vi/nRBLhMZjazk/default.jpg  nRBLhMZjazk      0\n",
       "1854  https://i.ytimg.com/vi/JgkdgAfTdBk/default.jpg  JgkdgAfTdBk      1\n",
       "1855  https://i.ytimg.com/vi/mdsaZz5WVHU/default.jpg  mdsaZz5WVHU      1\n",
       "1856  https://i.ytimg.com/vi/8hSds3puPQY/default.jpg  8hSds3puPQY      0\n",
       "1857  https://i.ytimg.com/vi/PhWyC9sPF0M/default.jpg  PhWyC9sPF0M      0\n",
       "\n",
       "[1858 rows x 3 columns]"
      ]
     },
     "execution_count": 12,
     "metadata": {},
     "output_type": "execute_result"
    }
   ],
   "source": [
    "# 앞으로 모델링 단계에서 필요 없는 col 제거\n",
    "dataset = dataLabeled.drop(['Published', 'ViewCount', 'NeighborsMean'], axis=1)\n",
    "\n",
    "dataset"
   ]
  },
  {
   "attachments": {},
   "cell_type": "markdown",
   "id": "a3e5d50a",
   "metadata": {},
   "source": [
    "### 데이터셋 확인 및 csv 변환"
   ]
  },
  {
   "cell_type": "code",
   "execution_count": 13,
   "id": "a8b9611c",
   "metadata": {},
   "outputs": [
    {
     "data": {
      "text/plain": [
       "0    1246\n",
       "1     612\n",
       "Name: label, dtype: int64"
      ]
     },
     "execution_count": 13,
     "metadata": {},
     "output_type": "execute_result"
    }
   ],
   "source": [
    "# label 비율 확인\n",
    "dataset['label'].value_counts()"
   ]
  },
  {
   "cell_type": "code",
   "execution_count": 14,
   "id": "7ffd563b",
   "metadata": {},
   "outputs": [],
   "source": [
    "dataset.to_csv(\"LabeledData.csv\")"
   ]
  },
  {
   "cell_type": "code",
   "execution_count": null,
   "id": "86a06fdb",
   "metadata": {},
   "outputs": [],
   "source": []
  }
 ],
 "metadata": {
  "kernelspec": {
   "display_name": "tf2",
   "language": "python",
   "name": "python3"
  },
  "language_info": {
   "codemirror_mode": {
    "name": "ipython",
    "version": 3
   },
   "file_extension": ".py",
   "mimetype": "text/x-python",
   "name": "python",
   "nbconvert_exporter": "python",
   "pygments_lexer": "ipython3",
   "version": "3.8.15"
  },
  "vscode": {
   "interpreter": {
    "hash": "1221fd51584be75e21d3038ae888e2bde9fcee4ed7c2fc9b9f888e76690e7f8b"
   }
  }
 },
 "nbformat": 4,
 "nbformat_minor": 5
}
