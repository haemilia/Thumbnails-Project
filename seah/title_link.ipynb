{
 "cells": [
  {
   "cell_type": "code",
   "execution_count": 1,
   "metadata": {},
   "outputs": [],
   "source": [
    "from selenium import webdriver\n",
    "from selenium.webdriver.support.ui import WebDriverWait\n",
    "from selenium.webdriver.support import expected_conditions as EC\n",
    "from selenium.webdriver.common.by import By\n",
    "from selenium.webdriver.common.keys import Keys\n",
    "from webdriver_manager.chrome import ChromeDriverManager\n",
    "from bs4 import BeautifulSoup\n",
    "import time\n",
    "import random\n",
    "import pandas as pd\n",
    "from selenium.webdriver import Chrome"
   ]
  },
  {
   "cell_type": "code",
   "execution_count": 2,
   "metadata": {},
   "outputs": [],
   "source": [
    "from selenium.webdriver.chrome.service import Service\n",
    "service = Service(ChromeDriverManager().install())"
   ]
  },
  {
   "cell_type": "code",
   "execution_count": 3,
   "metadata": {},
   "outputs": [],
   "source": [
    "def scroll():\n",
    "    try:        \n",
    "        # 페이지 내 스크롤 높이 받아오기\n",
    "        last_page_height = driver.execute_script(\"return document.documentElement.scrollHeight\")\n",
    "        while True:\n",
    "            # 임의의 페이지 로딩 시간 설정\n",
    "            # PC환경에 따라 로딩시간 최적화를 통해 scraping 시간 단축 가능\n",
    "            pause_time = random.uniform(1, 2)\n",
    "            # 페이지 최하단까지 스크롤\n",
    "            driver.execute_script(\"window.scrollTo(0, document.documentElement.scrollHeight);\")\n",
    "            # 페이지 로딩 대기\n",
    "            time.sleep(pause_time)\n",
    "            # 무한 스크롤 동작을 위해 살짝 위로 스크롤(i.e., 페이지를 위로 올렸다가 내리는 제스쳐)\n",
    "            driver.execute_script(\"window.scrollTo(0, document.documentElement.scrollHeight-50)\")\n",
    "            time.sleep(pause_time)\n",
    "            # 페이지 내 스크롤 높이 새롭게 받아오기\n",
    "            new_page_height = driver.execute_script(\"return document.documentElement.scrollHeight\")\n",
    "            # 스크롤을 완료한 경우(더이상 페이지 높이 변화가 없는 경우)\n",
    "            if new_page_height == last_page_height:\n",
    "                print(\"스크롤 완료\")\n",
    "                break\n",
    "                \n",
    "            # 스크롤 완료하지 않은 경우, 최하단까지 스크롤\n",
    "            else:\n",
    "                last_page_height = new_page_height\n",
    "            \n",
    "    except Exception as e:\n",
    "        print(\"에러 발생: \", e)"
   ]
  },
  {
   "cell_type": "code",
   "execution_count": 4,
   "metadata": {},
   "outputs": [],
   "source": [
    "# 검색 키워드 설정: 키워드 내 띄어쓰기는 URL에서 '+'로 표시되기 때문에 이에 맞게 변환\n",
    "SEARCH_KEYWORD = '침착맨'.replace(' ', '+')"
   ]
  },
  {
   "cell_type": "code",
   "execution_count": 5,
   "metadata": {},
   "outputs": [
    {
     "name": "stdout",
     "output_type": "stream",
     "text": [
      "스크롤 완료\n"
     ]
    }
   ],
   "source": [
    "driver = Chrome(ChromeDriverManager().install())\n",
    "# 스크래핑 할 URL 세팅\n",
    "URL = \"https://www.youtube.com/results?search_query=\" + SEARCH_KEYWORD\n",
    "#URL = 'https://www.youtube.com/@calmdownman_official/videos'\n",
    "# 크롬 드라이버를 통해 지정한 URL의 웹 페이지 오픈\n",
    "driver.get(URL)\n",
    "# 웹 페이지 로딩 대기\n",
    "time.sleep(3)\n",
    "# 무한 스크롤 함수 실행\n",
    "scroll()"
   ]
  },
  {
   "cell_type": "code",
   "execution_count": 6,
   "metadata": {},
   "outputs": [],
   "source": [
    "# 페이지 소스 추출\n",
    "html_source = driver.page_source\n",
    "soup_source = BeautifulSoup(html_source, 'html.parser')"
   ]
  },
  {
   "cell_type": "code",
   "execution_count": 7,
   "metadata": {},
   "outputs": [],
   "source": [
    "# 콘텐츠 모든 정보\n",
    "content_total = soup_source.find_all(class_ = 'yt-simple-endpoint style-scope ytd-video-renderer')\n",
    "# 콘텐츠 제목만 추출\n",
    "content_total_title = list(map(lambda data: data.get_text().replace(\"\\n\", \"\"), content_total))\n",
    "# 콘텐츠 링크만 추출\n",
    "content_total_link = list(map(lambda data: \"https://youtube.com\" + data[\"href\"], content_total))\n",
    "\n",
    "#--------조회수 & 업로드 날짜 추출(Updated at 2022-10-11)--------#\n",
    "content_record_src = soup_source.find_all(class_ = 'style-scope ytd-video-meta-block')\n",
    "content_view_cnt = [content_record_src[i].get_text().replace('조회수 ', '') for i in range(5, len(content_record_src), 10)]\n",
    "content_upload_date = [content_record_src[i].get_text() for i in range(6, len(content_record_src), 10)]\n",
    "#---------------------------------------------------------#\n",
    "\n",
    "# 딕셔너리 포맷팅\n",
    "content_total_dict = {'title'       : content_total_title, \n",
    "                      'link'        : content_total_link\n",
    "                     }"
   ]
  },
  {
   "cell_type": "code",
   "execution_count": 8,
   "metadata": {
    "scrolled": true
   },
   "outputs": [
    {
     "data": {
      "text/html": [
       "<div>\n",
       "<style scoped>\n",
       "    .dataframe tbody tr th:only-of-type {\n",
       "        vertical-align: middle;\n",
       "    }\n",
       "\n",
       "    .dataframe tbody tr th {\n",
       "        vertical-align: top;\n",
       "    }\n",
       "\n",
       "    .dataframe thead th {\n",
       "        text-align: right;\n",
       "    }\n",
       "</style>\n",
       "<table border=\"1\" class=\"dataframe\">\n",
       "  <thead>\n",
       "    <tr style=\"text-align: right;\">\n",
       "      <th></th>\n",
       "      <th>title</th>\n",
       "      <th>link</th>\n",
       "    </tr>\n",
       "  </thead>\n",
       "  <tbody>\n",
       "    <tr>\n",
       "      <th>0</th>\n",
       "      <td>모든 분리수거의 신</td>\n",
       "      <td>https://youtube.com/watch?v=PhWyC9sPF0M</td>\n",
       "    </tr>\n",
       "    <tr>\n",
       "      <th>1</th>\n",
       "      <td>(잔인주의) 선량한 사람은 너굴맨이 처리했으니 안심하라구</td>\n",
       "      <td>https://youtube.com/watch?v=8hSds3puPQY</td>\n",
       "    </tr>\n",
       "    <tr>\n",
       "      <th>2</th>\n",
       "      <td>계속되는 남도형 성우와의 토크</td>\n",
       "      <td>https://youtube.com/watch?v=mdsaZz5WVHU</td>\n",
       "    </tr>\n",
       "    <tr>\n",
       "      <th>3</th>\n",
       "      <td>2023년 02월 10일 | 카더가든 · 비비 초대석, 러스티 레이크 루츠, 학창시...</td>\n",
       "      <td>https://youtube.com/watch?v=cYOqd3GINa4</td>\n",
       "    </tr>\n",
       "    <tr>\n",
       "      <th>4</th>\n",
       "      <td>침&amp;펄 | 아이돌 인물 퀴즈 &amp; 수도 퀴즈</td>\n",
       "      <td>https://youtube.com/watch?v=S9syINFA5Zo</td>\n",
       "    </tr>\n",
       "    <tr>\n",
       "      <th>...</th>\n",
       "      <td>...</td>\n",
       "      <td>...</td>\n",
       "    </tr>\n",
       "    <tr>\n",
       "      <th>97</th>\n",
       "      <td>침착맨이 알려주는 고사성어</td>\n",
       "      <td>https://youtube.com/watch?v=Vrl78SZ724c</td>\n",
       "    </tr>\n",
       "    <tr>\n",
       "      <th>98</th>\n",
       "      <td>'블랙홀의 과학' 특강 | 제1부 강의의 지평선 너머로</td>\n",
       "      <td>https://youtube.com/watch?v=BYW59WPeBss</td>\n",
       "    </tr>\n",
       "    <tr>\n",
       "      <th>99</th>\n",
       "      <td>듣기 싫은 꼰대어 월드컵</td>\n",
       "      <td>https://youtube.com/watch?v=gcRzKVztwK4</td>\n",
       "    </tr>\n",
       "    <tr>\n",
       "      <th>100</th>\n",
       "      <td>침착맨 3월 10일부터 휴방 발표</td>\n",
       "      <td>https://youtube.com/watch?v=Yg1zmWl1wO0</td>\n",
       "    </tr>\n",
       "    <tr>\n",
       "      <th>101</th>\n",
       "      <td>슬램덩크 최고의 명장면 월드컵 (with 배성재 아나운서)</td>\n",
       "      <td>https://youtube.com/watch?v=nwskh-ZIi6E</td>\n",
       "    </tr>\n",
       "  </tbody>\n",
       "</table>\n",
       "<p>102 rows × 2 columns</p>\n",
       "</div>"
      ],
      "text/plain": [
       "                                                 title  \\\n",
       "0                                           모든 분리수거의 신   \n",
       "1                      (잔인주의) 선량한 사람은 너굴맨이 처리했으니 안심하라구   \n",
       "2                                     계속되는 남도형 성우와의 토크   \n",
       "3    2023년 02월 10일 | 카더가든 · 비비 초대석, 러스티 레이크 루츠, 학창시...   \n",
       "4                              침&펄 | 아이돌 인물 퀴즈 & 수도 퀴즈   \n",
       "..                                                 ...   \n",
       "97                                      침착맨이 알려주는 고사성어   \n",
       "98                      '블랙홀의 과학' 특강 | 제1부 강의의 지평선 너머로   \n",
       "99                                       듣기 싫은 꼰대어 월드컵   \n",
       "100                                 침착맨 3월 10일부터 휴방 발표   \n",
       "101                   슬램덩크 최고의 명장면 월드컵 (with 배성재 아나운서)   \n",
       "\n",
       "                                        link  \n",
       "0    https://youtube.com/watch?v=PhWyC9sPF0M  \n",
       "1    https://youtube.com/watch?v=8hSds3puPQY  \n",
       "2    https://youtube.com/watch?v=mdsaZz5WVHU  \n",
       "3    https://youtube.com/watch?v=cYOqd3GINa4  \n",
       "4    https://youtube.com/watch?v=S9syINFA5Zo  \n",
       "..                                       ...  \n",
       "97   https://youtube.com/watch?v=Vrl78SZ724c  \n",
       "98   https://youtube.com/watch?v=BYW59WPeBss  \n",
       "99   https://youtube.com/watch?v=gcRzKVztwK4  \n",
       "100  https://youtube.com/watch?v=Yg1zmWl1wO0  \n",
       "101  https://youtube.com/watch?v=nwskh-ZIi6E  \n",
       "\n",
       "[102 rows x 2 columns]"
      ]
     },
     "execution_count": 8,
     "metadata": {},
     "output_type": "execute_result"
    }
   ],
   "source": [
    "df = pd.DataFrame(content_total_dict)\n",
    "df"
   ]
  },
  {
   "cell_type": "code",
   "execution_count": 9,
   "metadata": {},
   "outputs": [],
   "source": [
    "df.to_csv(\"침착맨\")"
   ]
  },
  {
   "cell_type": "code",
   "execution_count": 10,
   "metadata": {},
   "outputs": [],
   "source": [
    "driver.close()"
   ]
  },
  {
   "cell_type": "code",
   "execution_count": null,
   "metadata": {},
   "outputs": [],
   "source": []
  }
 ],
 "metadata": {
  "colab": {
   "provenance": []
  },
  "kernelspec": {
   "display_name": "Python [conda env:tf2] *",
   "language": "python",
   "name": "conda-env-tf2-py"
  },
  "language_info": {
   "codemirror_mode": {
    "name": "ipython",
    "version": 3
   },
   "file_extension": ".py",
   "mimetype": "text/x-python",
   "name": "python",
   "nbconvert_exporter": "python",
   "pygments_lexer": "ipython3",
   "version": "3.8.15"
  }
 },
 "nbformat": 4,
 "nbformat_minor": 1
}
