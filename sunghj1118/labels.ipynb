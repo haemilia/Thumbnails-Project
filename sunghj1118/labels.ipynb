{
 "cells": [
  {
   "cell_type": "markdown",
   "id": "e07d683a-a250-424c-8d18-b4a1f5d522ed",
   "metadata": {},
   "source": [
    "## 필요한 라이브러리 불러오기 및 상수 선언"
   ]
  },
  {
   "cell_type": "code",
   "execution_count": 1,
   "id": "c5f5b2f1-9064-47bc-909a-c3f6b0fdf768",
   "metadata": {},
   "outputs": [],
   "source": [
    "import pandas as pd\n",
    "import glob\n",
    "import os\n",
    "\n",
    "import warnings\n",
    "warnings.filterwarnings('ignore')"
   ]
  },
  {
   "cell_type": "code",
   "execution_count": 2,
   "id": "7aa41c5f-763d-42fb-8644-fc89f816e1ad",
   "metadata": {},
   "outputs": [],
   "source": [
    "# 앞뒤로 각각 몇 개의 데이터와 비교할지\n",
    "NUM_NEIGHBORS = 5"
   ]
  },
  {
   "cell_type": "markdown",
   "id": "86a8136b-950f-476b-bc0e-8eaa32fb6072",
   "metadata": {},
   "source": [
    "## 데이터셋 가져오기"
   ]
  },
  {
   "cell_type": "code",
   "execution_count": 3,
   "id": "338d4d4b-4760-4eaf-a217-2c383a3cbede",
   "metadata": {},
   "outputs": [],
   "source": [
    "# PATH 설정\n",
    "path = r'C:\\Users\\sungh\\.vscode\\repository\\thumbnails\\Thumbnails-Project\\datasets\\thumbnail_csv'"
   ]
  },
  {
   "cell_type": "code",
   "execution_count": 8,
   "id": "49111ba6-10a7-4a9d-9719-2673870c47aa",
   "metadata": {},
   "outputs": [],
   "source": [
    "# dataset 하나로 합치기\n",
    "all_files = glob.glob(os.path.join(path, \"*.csv\"))"
   ]
  },
  {
   "cell_type": "code",
   "execution_count": 9,
   "id": "9f7eba73-c372-4b08-9adf-884eec342bdc",
   "metadata": {},
   "outputs": [],
   "source": [
    "df_all = pd.concat((pd.read_csv(f) for f in all_files), ignore_index=True)"
   ]
  },
  {
   "cell_type": "code",
   "execution_count": 10,
   "id": "cf0e54c3-15a6-456d-9eb7-62b60a0385b7",
   "metadata": {},
   "outputs": [],
   "source": [
    "# index 초기화 및 불필요한 column drop\n",
    "df_all.reset_index(inplace=True)\n",
    "df_all.drop(['index', 'Unnamed: 0', 'Unnamed: 0.1'], axis=1, inplace=True)"
   ]
  },
  {
   "cell_type": "code",
   "execution_count": 11,
   "id": "9ef8f38a-fc68-4cb4-9cc3-5d2f1f715df5",
   "metadata": {},
   "outputs": [
    {
     "data": {
      "text/plain": [
       "Published         0\n",
       "HDThumbnailUrl    0\n",
       "ViewCount         0\n",
       "VideoId           0\n",
       "Title             0\n",
       "dtype: int64"
      ]
     },
     "execution_count": 11,
     "metadata": {},
     "output_type": "execute_result"
    }
   ],
   "source": [
    "df_all.isnull().sum()"
   ]
  },
  {
   "cell_type": "code",
   "execution_count": 12,
   "id": "a2b03ee4-bcb0-4e94-ae87-a1e28c96c087",
   "metadata": {},
   "outputs": [],
   "source": [
    "# @seah가 만든 labeling함수.\n",
    "# 앞뒤 비교할 n개의 평균과 조회수를 비교하여 더 높으면 1, 낮으면 0을 칼럼에 저장한다.\n",
    "\n",
    "def getLabels(df, n) :\n",
    "\n",
    "    # input : dataset to get labels, number of neighbors to get mean of views\n",
    "    # output : dataset with labels and mean of neighbors\n",
    "\n",
    "    # create columns 'NeighborsMean' & 'label'\n",
    "    df['NeighborsMean'] = 0\n",
    "    df['label'] = 0\n",
    "    df = df.astype({'NeighborsMean':'int'})\n",
    "\n",
    "    for i in range(len(df)):\n",
    "        mean = 0\n",
    "\n",
    "        # [ : NUM_NEIGHBORS - 1 ]\n",
    "        if i in range(0, n):\n",
    "            mean = df.iloc[:i+n+1]['ViewCount'].mean()\n",
    "        \n",
    "        # [ NUM_NEIGHBORS : length - NUM_NEIGHBORS - 1 ]\n",
    "        elif i in range(n, len(df)-n):\n",
    "            mean = df.iloc[i-n:i+n+1]['ViewCount'].mean()\n",
    "        \n",
    "        # [ length - NUM_NEIGHBORS : ]\n",
    "        else:\n",
    "            mean = df.iloc[i-n:]['ViewCount'].mean()\n",
    "        \n",
    "        df['NeighborsMean'][i] = round(mean)\n",
    "        if df['ViewCount'][i] >= mean:\n",
    "            df['label'][i] = 1\n",
    "    \n",
    "    return df"
   ]
  },
  {
   "cell_type": "code",
   "execution_count": 13,
   "id": "43164514-a0d6-449e-9e08-d105e5a541db",
   "metadata": {},
   "outputs": [
    {
     "data": {
      "text/html": [
       "<div>\n",
       "<style scoped>\n",
       "    .dataframe tbody tr th:only-of-type {\n",
       "        vertical-align: middle;\n",
       "    }\n",
       "\n",
       "    .dataframe tbody tr th {\n",
       "        vertical-align: top;\n",
       "    }\n",
       "\n",
       "    .dataframe thead th {\n",
       "        text-align: right;\n",
       "    }\n",
       "</style>\n",
       "<table border=\"1\" class=\"dataframe\">\n",
       "  <thead>\n",
       "    <tr style=\"text-align: right;\">\n",
       "      <th></th>\n",
       "      <th>HDThumbnailUrl</th>\n",
       "      <th>VideoId</th>\n",
       "      <th>Title</th>\n",
       "      <th>label</th>\n",
       "    </tr>\n",
       "  </thead>\n",
       "  <tbody>\n",
       "    <tr>\n",
       "      <th>0</th>\n",
       "      <td>https://i.ytimg.com/vi/1-lSq0Y7Sf8/hqdefault.jpg</td>\n",
       "      <td>1-lSq0Y7Sf8</td>\n",
       "      <td>한국 패션이 어떠냐고요? 패션업계에 있는 유럽인들이 말하는 한국인의 패션!</td>\n",
       "      <td>0</td>\n",
       "    </tr>\n",
       "    <tr>\n",
       "      <th>1</th>\n",
       "      <td>https://i.ytimg.com/vi/z5-PlPKWMXk/hqdefault.jpg</td>\n",
       "      <td>z5-PlPKWMXk</td>\n",
       "      <td>프랑스 여자가 한국 공장에서 일하며 외노자가 된 이유는?</td>\n",
       "      <td>1</td>\n",
       "    </tr>\n",
       "    <tr>\n",
       "      <th>2</th>\n",
       "      <td>https://i.ytimg.com/vi/NFd-5sNibZE/hqdefault.jpg</td>\n",
       "      <td>NFd-5sNibZE</td>\n",
       "      <td>한국 고시원에 살아본 에스토니아 사람 #shorts</td>\n",
       "      <td>0</td>\n",
       "    </tr>\n",
       "    <tr>\n",
       "      <th>3</th>\n",
       "      <td>https://i.ytimg.com/vi/VUnf9lCdg_w/hqdefault.jpg</td>\n",
       "      <td>VUnf9lCdg_w</td>\n",
       "      <td>뉴욕에서 한국어를 배운 특이한 이유 ㅋㅋ #shorts</td>\n",
       "      <td>0</td>\n",
       "    </tr>\n",
       "    <tr>\n",
       "      <th>4</th>\n",
       "      <td>https://i.ytimg.com/vi/wtFDFJuvXhA/hqdefault.jpg</td>\n",
       "      <td>wtFDFJuvXhA</td>\n",
       "      <td>등교길에 지하철 분식을 지나칠 수 없는 미국여자! 김떡순 오뎅까지 혼밥 먹방</td>\n",
       "      <td>0</td>\n",
       "    </tr>\n",
       "    <tr>\n",
       "      <th>...</th>\n",
       "      <td>...</td>\n",
       "      <td>...</td>\n",
       "      <td>...</td>\n",
       "      <td>...</td>\n",
       "    </tr>\n",
       "    <tr>\n",
       "      <th>25392</th>\n",
       "      <td>https://i.ytimg.com/vi/GVEdfxvmdzk/hqdefault.jpg</td>\n",
       "      <td>GVEdfxvmdzk</td>\n",
       "      <td>충충이와 김포 구제창고에서 쇼핑한 하루</td>\n",
       "      <td>0</td>\n",
       "    </tr>\n",
       "    <tr>\n",
       "      <th>25393</th>\n",
       "      <td>https://i.ytimg.com/vi/mTCWMkTE6EQ/hqdefault.jpg</td>\n",
       "      <td>mTCWMkTE6EQ</td>\n",
       "      <td>혜진쓰 Vlog | 퇴근 후 장보기, 접어먹는 김밥, 충충이랑 결혼고사 보는 하루</td>\n",
       "      <td>1</td>\n",
       "    </tr>\n",
       "    <tr>\n",
       "      <th>25394</th>\n",
       "      <td>https://i.ytimg.com/vi/2KnXlDCZXKE/hqdefault.jpg</td>\n",
       "      <td>2KnXlDCZXKE</td>\n",
       "      <td>혜진쓰 Vlog | 카메라📷 개봉하고 충충이랑 감성 가구🛋 구경하기</td>\n",
       "      <td>0</td>\n",
       "    </tr>\n",
       "    <tr>\n",
       "      <th>25395</th>\n",
       "      <td>https://i.ytimg.com/vi/SKwNdLWygIo/hqdefault.jpg</td>\n",
       "      <td>SKwNdLWygIo</td>\n",
       "      <td>혜진쓰 Vlog | 🎁지니핑크 신상 컨셉촬영📷하고 PT받고 밥까지 해먹는 바쁜하루:)</td>\n",
       "      <td>0</td>\n",
       "    </tr>\n",
       "    <tr>\n",
       "      <th>25396</th>\n",
       "      <td>https://i.ytimg.com/vi/3-g2rZRvg8s/hqdefault.jpg</td>\n",
       "      <td>3-g2rZRvg8s</td>\n",
       "      <td>혜진쓰 Vlog | 👜KBS사장님귀는 당나귀귀 촬영하고 충충이랑 치킨먹고 드라마 보...</td>\n",
       "      <td>1</td>\n",
       "    </tr>\n",
       "  </tbody>\n",
       "</table>\n",
       "<p>25397 rows × 4 columns</p>\n",
       "</div>"
      ],
      "text/plain": [
       "                                         HDThumbnailUrl      VideoId  \\\n",
       "0      https://i.ytimg.com/vi/1-lSq0Y7Sf8/hqdefault.jpg  1-lSq0Y7Sf8   \n",
       "1      https://i.ytimg.com/vi/z5-PlPKWMXk/hqdefault.jpg  z5-PlPKWMXk   \n",
       "2      https://i.ytimg.com/vi/NFd-5sNibZE/hqdefault.jpg  NFd-5sNibZE   \n",
       "3      https://i.ytimg.com/vi/VUnf9lCdg_w/hqdefault.jpg  VUnf9lCdg_w   \n",
       "4      https://i.ytimg.com/vi/wtFDFJuvXhA/hqdefault.jpg  wtFDFJuvXhA   \n",
       "...                                                 ...          ...   \n",
       "25392  https://i.ytimg.com/vi/GVEdfxvmdzk/hqdefault.jpg  GVEdfxvmdzk   \n",
       "25393  https://i.ytimg.com/vi/mTCWMkTE6EQ/hqdefault.jpg  mTCWMkTE6EQ   \n",
       "25394  https://i.ytimg.com/vi/2KnXlDCZXKE/hqdefault.jpg  2KnXlDCZXKE   \n",
       "25395  https://i.ytimg.com/vi/SKwNdLWygIo/hqdefault.jpg  SKwNdLWygIo   \n",
       "25396  https://i.ytimg.com/vi/3-g2rZRvg8s/hqdefault.jpg  3-g2rZRvg8s   \n",
       "\n",
       "                                                   Title  label  \n",
       "0              한국 패션이 어떠냐고요? 패션업계에 있는 유럽인들이 말하는 한국인의 패션!      0  \n",
       "1                        프랑스 여자가 한국 공장에서 일하며 외노자가 된 이유는?      1  \n",
       "2                           한국 고시원에 살아본 에스토니아 사람 #shorts      0  \n",
       "3                         뉴욕에서 한국어를 배운 특이한 이유 ㅋㅋ #shorts      0  \n",
       "4             등교길에 지하철 분식을 지나칠 수 없는 미국여자! 김떡순 오뎅까지 혼밥 먹방      0  \n",
       "...                                                  ...    ...  \n",
       "25392                              충충이와 김포 구제창고에서 쇼핑한 하루      0  \n",
       "25393      혜진쓰 Vlog | 퇴근 후 장보기, 접어먹는 김밥, 충충이랑 결혼고사 보는 하루      1  \n",
       "25394              혜진쓰 Vlog | 카메라📷 개봉하고 충충이랑 감성 가구🛋 구경하기      0  \n",
       "25395    혜진쓰 Vlog | 🎁지니핑크 신상 컨셉촬영📷하고 PT받고 밥까지 해먹는 바쁜하루:)      0  \n",
       "25396  혜진쓰 Vlog | 👜KBS사장님귀는 당나귀귀 촬영하고 충충이랑 치킨먹고 드라마 보...      1  \n",
       "\n",
       "[25397 rows x 4 columns]"
      ]
     },
     "execution_count": 13,
     "metadata": {},
     "output_type": "execute_result"
    }
   ],
   "source": [
    "df_all = getLabels(df_all, NUM_NEIGHBORS)\n",
    "df_all.drop(['Published', 'ViewCount', 'NeighborsMean'], axis=1, inplace=True)\n",
    "df_all"
   ]
  },
  {
   "cell_type": "code",
   "execution_count": 14,
   "id": "613cda26-2bae-4689-b378-1d55a116f574",
   "metadata": {},
   "outputs": [
    {
     "data": {
      "text/plain": [
       "0    16294\n",
       "1     9103\n",
       "Name: label, dtype: int64"
      ]
     },
     "execution_count": 14,
     "metadata": {},
     "output_type": "execute_result"
    }
   ],
   "source": [
    "df_all['label'].value_counts()"
   ]
  },
  {
   "cell_type": "code",
   "execution_count": 15,
   "id": "b8a41e56-366f-484d-8ce0-4b7873836a26",
   "metadata": {},
   "outputs": [],
   "source": [
    "df_all.to_csv(\"AllLabeledData.csv\")"
   ]
  },
  {
   "cell_type": "code",
   "execution_count": null,
   "id": "5a41f4d6-2f0f-43df-ae16-d6f296e70f99",
   "metadata": {},
   "outputs": [],
   "source": []
  }
 ],
 "metadata": {
  "kernelspec": {
   "display_name": "Python 3 (ipykernel)",
   "language": "python",
   "name": "python3"
  },
  "language_info": {
   "codemirror_mode": {
    "name": "ipython",
    "version": 3
   },
   "file_extension": ".py",
   "mimetype": "text/x-python",
   "name": "python",
   "nbconvert_exporter": "python",
   "pygments_lexer": "ipython3",
   "version": "3.9.13"
  }
 },
 "nbformat": 4,
 "nbformat_minor": 5
}
