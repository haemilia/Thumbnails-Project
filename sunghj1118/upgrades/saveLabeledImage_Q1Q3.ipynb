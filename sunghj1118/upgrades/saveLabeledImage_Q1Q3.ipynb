{
 "cells": [
  {
   "cell_type": "markdown",
   "id": "5ebe81a2",
   "metadata": {},
   "source": [
    "### 필요한 라이브러리 불러오기 및 상수 선언"
   ]
  },
  {
   "cell_type": "code",
   "execution_count": 47,
   "id": "189c6de1",
   "metadata": {},
   "outputs": [],
   "source": [
    "import numpy as np\n",
    "import pandas as pd\n",
    "import urllib.request\n",
    "from PIL import Image\n",
    "import os\n",
    "\n",
    "import warnings\n",
    "warnings.filterwarnings('ignore')"
   ]
  },
  {
   "cell_type": "markdown",
   "id": "80154a47",
   "metadata": {},
   "source": [
    "### 데이터셋 가져오기"
   ]
  },
  {
   "cell_type": "code",
   "execution_count": 3,
   "id": "e8c894ab",
   "metadata": {},
   "outputs": [],
   "source": [
    "YOUTUBE_LIST = ['과학드림', '곽튜브', '리뷰엉이', '배말랭', '백종원', '보다', '비글부부', '서기채널', '셜록현준', '슈카월드', '알간지', '영국남자', '옐언니', '오킹TV', '오사카에사는사람들TV', '웅이', '육식맨', '주연', '지식해적단', '쯔양', '청담언니', '침착맨', '테스터훈', '트래블튜브', '피지컬갤러리', '햄지', '허팝', '혜진쓰', 'CreativeDen', 'ITSub잇섭', 'LeoJ Makeup', 'SOD', 'UNDERkg']"
   ]
  },
  {
   "cell_type": "code",
   "execution_count": 4,
   "id": "245b3624",
   "metadata": {},
   "outputs": [],
   "source": [
    "# path 설정\n",
    "DATA_PATH = 'C:/Users/sungh/.vscode/repository/thumbnailv2/Thumbnails-Project/datasets/thumbnail_csv/'"
   ]
  },
  {
   "cell_type": "markdown",
   "id": "04cc44a0",
   "metadata": {},
   "source": [
    "### 함수 선언"
   ]
  },
  {
   "cell_type": "code",
   "execution_count": 66,
   "id": "33e3d099",
   "metadata": {},
   "outputs": [],
   "source": [
    "# 1사분위수와 비교했을 때, 더 작으면 유의미하게 안 좋은 썸네일,\n",
    "# 3사분위수와 비교했을 때, 더 크면 유의미하게 좋은 썸네일으로 라벨링하는 함수\n",
    "# 나머지는 삭제한다\n",
    "\n",
    "def getLabels13Quartiles(df):\n",
    "    df['label'] = 0\n",
    "    Q1View = np.percentile(df['ViewCount'], 25)\n",
    "    Q3View = np.percentile(df['ViewCount'], 75)\n",
    "    \n",
    "    for i in range(len(df)):\n",
    "        # if ViewCount is higher than Q3 then it is labeled as 1\n",
    "        if df['ViewCount'][i] >= Q3View:\n",
    "            df['label'][i] = 1\n",
    "        \n",
    "        # else if ViewCount is lower than Q1 then it is labeled as 0\n",
    "        elif df['ViewCount'][i] < Q1View:\n",
    "            df['label'][i] = 0\n",
    "            \n",
    "        # else ViewCount is between Q1 and Q3 so it is dropped\n",
    "        else:\n",
    "            df['label'][i] = pd.NA\n",
    "    df.dropna(inplace=True)\n",
    "    return df"
   ]
  },
  {
   "cell_type": "code",
   "execution_count": 16,
   "id": "ebb95604",
   "metadata": {},
   "outputs": [],
   "source": [
    "#get image from url \n",
    "def url_to_img(dataset, IDX):\n",
    "    for i in range(len(dataset)):\n",
    "        img_id = dataset['Unnamed: 0'][i]\n",
    "        img_url = dataset['HDThumbnailUrl'][i]\n",
    "\n",
    "        if dataset['label'][i]==0:\n",
    "            file_name = IMG_PATH + f\"/0/{IDX+1}_{img_id}.png\"\n",
    "        else:\n",
    "            file_name = IMG_PATH + f\"/1/{IDX+1}_{img_id}.png\"\n",
    "\n",
    "        urllib.request.urlretrieve(img_url, file_name)\n",
    "        print(f\"{file_name}.png saved\")   "
   ]
  },
  {
   "cell_type": "markdown",
   "id": "38d8752d",
   "metadata": {},
   "source": [
    "### 라벨링 및 이미지 저장"
   ]
  },
  {
   "cell_type": "code",
   "execution_count": 17,
   "id": "1b20e5e7",
   "metadata": {},
   "outputs": [],
   "source": [
    "fullData = pd.DataFrame({\n",
    "    'ChannelName' : [],\n",
    "    'VideoIndex': [],\n",
    "    'VideoID' : [],\n",
    "    'VideoTitle': [],\n",
    "    'Label': [],\n",
    "})\n",
    "\n",
    "datas = []\n",
    "zeros = []\n",
    "ones = []"
   ]
  },
  {
   "cell_type": "code",
   "execution_count": 67,
   "id": "11e3e436",
   "metadata": {},
   "outputs": [
    {
     "name": "stdout",
     "output_type": "stream",
     "text": [
      "(70, 7)\n",
      "    Unnamed: 0                 Published  \\\n",
      "4          134 2019-04-19 08:57:53+00:00   \n",
      "6          132 2019-05-03 09:09:52+00:00   \n",
      "7          131 2019-05-10 09:00:06+00:00   \n",
      "8          130 2019-05-17 09:00:09+00:00   \n",
      "11         127 2019-06-07 09:00:00+00:00   \n",
      "\n",
      "                                      HDThumbnailUrl  ViewCount      VideoId  \\\n",
      "4   https://i.ytimg.com/vi/oAlmpXS9wPw/hqdefault.jpg    3427519  oAlmpXS9wPw   \n",
      "6   https://i.ytimg.com/vi/hswtPZSnKo8/hqdefault.jpg     104774  hswtPZSnKo8   \n",
      "7   https://i.ytimg.com/vi/kbiOUSGeeME/hqdefault.jpg     210557  kbiOUSGeeME   \n",
      "8   https://i.ytimg.com/vi/8pd4W9AqrbE/hqdefault.jpg     168150  8pd4W9AqrbE   \n",
      "11  https://i.ytimg.com/vi/M2rjIgmj87g/hqdefault.jpg     346478  M2rjIgmj87g   \n",
      "\n",
      "                                           Title label  \n",
      "4           기생충은 왜 개구리 다리를 이렇게 만들었을까?(기생충의 과학-1)     1  \n",
      "6                사랑의 유통기한, 있을까? 없을까? (feat. 호르몬)     0  \n",
      "7                              아기는 왜 귀여울까? (^.^)     0  \n",
      "8                           스킨십이 중요한 매우 과학적인 이유!     0  \n",
      "11  장염 환자에게 기생충 알 2,500개를 먹이면? (혐짤X) ｜기생충의 과학-3탄     0  \n"
     ]
    }
   ],
   "source": [
    "for idx in range(len(YOUTUBE_LIST)):\n",
    "    NAME = YOUTUBE_LIST[0]\n",
    "\n",
    "    data = pd.read_csv(DATA_PATH + NAME + '.csv')\n",
    "\n",
    "    # index 초기화 및 불필요한 column 제거\n",
    "    data['Published'] = pd.to_datetime(data.Published)\n",
    "    data = data.sort_values(by='Published')\n",
    "    data.reset_index(inplace=True)\n",
    "    data.drop(['index'], axis=1, inplace=True)\n",
    "\n",
    "    dataLabeled = getLabels13Quartiles(data)\n",
    "\n",
    "    # 영상 정보 저장\n",
    "    datas.append( len(dataLabeled) )\n",
    "    zeros.append( len(dataLabeled[dataLabeled['label']==0]) )\n",
    "    ones.append( len(dataLabeled[dataLabeled['label']==1]) )\n",
    "\n",
    "    mainData = pd.DataFrame({\n",
    "        'ChannelName' : [NAME for i in range(len(dataLabeled))],\n",
    "        'VideoIndex': dataLabeled['Unnamed: 0'],\n",
    "        'VideoID' : dataLabeled['VideoId'],\n",
    "        'VideoTitle': dataLabeled['Title'],\n",
    "        'Label':dataLabeled['label']\n",
    "    })\n",
    "    fullData = pd.concat([fullData, mainData])\n",
    "\n",
    "    # 이미지 저장\n",
    "    IMG_PATH = 'D:/_YBIGTA/labeled_thumbnails/' + NAME\n",
    "\n",
    "    os.makedirs(IMG_PATH, exist_ok=True)\n",
    "    os.makedirs(IMG_PATH + '/0', exist_ok=True)\n",
    "    os.makedirs(IMG_PATH + '/1', exist_ok=True)\n",
    "\n",
    "    url_to_img(dataLabeled, idx)"
   ]
  },
  {
   "cell_type": "markdown",
   "id": "0322b511",
   "metadata": {},
   "source": [
    "### 영상 정보 저장"
   ]
  },
  {
   "cell_type": "markdown",
   "id": "07aca706",
   "metadata": {},
   "source": [
    "len(fullData)"
   ]
  },
  {
   "cell_type": "code",
   "execution_count": 58,
   "id": "dbd7fcf0",
   "metadata": {},
   "outputs": [],
   "source": [
    "info = pd.DataFrame({\n",
    "    'youtube' : YOUTUBE_LIST[0],\n",
    "    'num_of_data' : datas[0],\n",
    "    'label 0' : zeros,\n",
    "    'label 1' : ones\n",
    "})"
   ]
  },
  {
   "cell_type": "code",
   "execution_count": 59,
   "id": "d2cddf9c",
   "metadata": {},
   "outputs": [
    {
     "data": {
      "text/html": [
       "<div>\n",
       "<style scoped>\n",
       "    .dataframe tbody tr th:only-of-type {\n",
       "        vertical-align: middle;\n",
       "    }\n",
       "\n",
       "    .dataframe tbody tr th {\n",
       "        vertical-align: top;\n",
       "    }\n",
       "\n",
       "    .dataframe thead th {\n",
       "        text-align: right;\n",
       "    }\n",
       "</style>\n",
       "<table border=\"1\" class=\"dataframe\">\n",
       "  <thead>\n",
       "    <tr style=\"text-align: right;\">\n",
       "      <th></th>\n",
       "      <th>youtube</th>\n",
       "      <th>num_of_data</th>\n",
       "      <th>label 0</th>\n",
       "      <th>label 1</th>\n",
       "    </tr>\n",
       "  </thead>\n",
       "  <tbody>\n",
       "    <tr>\n",
       "      <th>0</th>\n",
       "      <td>과학드림</td>\n",
       "      <td>139</td>\n",
       "      <td>69</td>\n",
       "      <td>70</td>\n",
       "    </tr>\n",
       "    <tr>\n",
       "      <th>1</th>\n",
       "      <td>과학드림</td>\n",
       "      <td>139</td>\n",
       "      <td>69</td>\n",
       "      <td>70</td>\n",
       "    </tr>\n",
       "    <tr>\n",
       "      <th>2</th>\n",
       "      <td>과학드림</td>\n",
       "      <td>139</td>\n",
       "      <td>35</td>\n",
       "      <td>104</td>\n",
       "    </tr>\n",
       "    <tr>\n",
       "      <th>3</th>\n",
       "      <td>과학드림</td>\n",
       "      <td>139</td>\n",
       "      <td>35</td>\n",
       "      <td>35</td>\n",
       "    </tr>\n",
       "  </tbody>\n",
       "</table>\n",
       "</div>"
      ],
      "text/plain": [
       "  youtube  num_of_data  label 0  label 1\n",
       "0    과학드림          139       69       70\n",
       "1    과학드림          139       69       70\n",
       "2    과학드림          139       35      104\n",
       "3    과학드림          139       35       35"
      ]
     },
     "execution_count": 59,
     "metadata": {},
     "output_type": "execute_result"
    }
   ],
   "source": [
    "info"
   ]
  },
  {
   "cell_type": "code",
   "execution_count": 84,
   "id": "35efee87",
   "metadata": {},
   "outputs": [],
   "source": [
    "info.to_csv('C:/Users/sungh/.vscode/repository/thumbnailv2/Thumbnails-Project/sunghj1118/upgrades/data_information.csv')\n",
    "fullData.to_csv('C:/Users/sungh/.vscode/repository/thumbnailv2/Thumbnails-Project/sunghj1118/upgrades/full_data_label.csv')"
   ]
  },
  {
   "cell_type": "code",
   "execution_count": null,
   "id": "84d971d2",
   "metadata": {},
   "outputs": [],
   "source": []
  }
 ],
 "metadata": {
  "kernelspec": {
   "display_name": "Python 3 (ipykernel)",
   "language": "python",
   "name": "python3"
  },
  "language_info": {
   "codemirror_mode": {
    "name": "ipython",
    "version": 3
   },
   "file_extension": ".py",
   "mimetype": "text/x-python",
   "name": "python",
   "nbconvert_exporter": "python",
   "pygments_lexer": "ipython3",
   "version": "3.9.13"
  },
  "vscode": {
   "interpreter": {
    "hash": "1221fd51584be75e21d3038ae888e2bde9fcee4ed7c2fc9b9f888e76690e7f8b"
   }
  }
 },
 "nbformat": 4,
 "nbformat_minor": 5
}
